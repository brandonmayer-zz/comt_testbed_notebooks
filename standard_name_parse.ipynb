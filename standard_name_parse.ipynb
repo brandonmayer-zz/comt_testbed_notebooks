{
 "metadata": {
  "name": "",
  "signature": "sha256:b6198b04d859d57fa96ba624648a34e81b086435653608995c304ab63865b96c"
 },
 "nbformat": 3,
 "nbformat_minor": 0,
 "worksheets": [
  {
   "cells": [
    {
     "cell_type": "code",
     "collapsed": false,
     "input": [
      "import os\n",
      "from netCDF4 import Dataset\n",
      "url = \"http://comt.sura.org/thredds/dodsC/data/comt_1_archive/inundation_tropical/UND_ADCIRC/Hurricane_Ike_2D_final_run_without_waves\"\n",
      "nc = Dataset(url,'r')"
     ],
     "language": "python",
     "metadata": {},
     "outputs": [],
     "prompt_number": 4
    },
    {
     "cell_type": "code",
     "collapsed": false,
     "input": [
      "for k,v in nc.variables.iteritems():\n",
      "    print \"k = {0}\".format(k)\n",
      "    print v.__dict__.get(\"standard_name\",None)"
     ],
     "language": "python",
     "metadata": {},
     "outputs": [
      {
       "output_type": "stream",
       "stream": "stdout",
       "text": [
        "k = time\n",
        "time\n",
        "k = x\n",
        "longitude\n",
        "k = y\n",
        "latitude\n",
        "k = element\n",
        "None\n",
        "k = adcirc_mesh\n",
        "None\n",
        "k = neta\n",
        "None\n",
        "k = nvdll\n",
        "None\n",
        "k = max_nvdll\n",
        "None\n",
        "k = ibtypee\n",
        "None\n",
        "k = nbdv\n",
        "None\n",
        "k = nvel\n",
        "None\n",
        "k = nvell\n",
        "None\n",
        "k = max_nvell\n",
        "None\n",
        "k = ibtype\n",
        "None\n",
        "k = nbvv\n",
        "None\n",
        "k = depth\n",
        "depth below geoid\n",
        "k = zeta\n",
        "sea_surface_height_above_geoid\n",
        "k = u-vel\n",
        "eastward_sea_water_velocity\n",
        "k = v-vel\n",
        "northward_sea_water_velocity\n",
        "k = pressure\n",
        "air_pressure_at_sea_level\n",
        "k = windx\n",
        "eastward_wind\n",
        "k = windy\n",
        "northward_wind\n",
        "k = zeta_max\n",
        "maximum_sea_surface_height_above_geoid\n",
        "k = radstress_max\n",
        "maximum_radiation_stress\n",
        "k = vel_max\n",
        "maximum_water_velocity\n",
        "k = wind_max\n",
        "maximum_wind\n",
        "k = pressure_min\n",
        "minimum_air_pressure_at_sea_level\n"
       ]
      }
     ],
     "prompt_number": 12
    },
    {
     "cell_type": "code",
     "collapsed": false,
     "input": [
      "for v in nc.variables.itervalues():\n",
      "    sname = v.__dict__.get(\"standard_name\")\n",
      "    if sname:\n",
      "        print sname"
     ],
     "language": "python",
     "metadata": {},
     "outputs": [
      {
       "output_type": "stream",
       "stream": "stdout",
       "text": [
        "time\n",
        "longitude\n",
        "latitude\n",
        "depth below geoid\n",
        "sea_surface_height_above_geoid\n",
        "eastward_sea_water_velocity\n",
        "northward_sea_water_velocity\n",
        "air_pressure_at_sea_level\n",
        "eastward_wind\n",
        "northward_wind\n",
        "maximum_sea_surface_height_above_geoid\n",
        "maximum_radiation_stress\n",
        "maximum_water_velocity\n",
        "maximum_wind\n",
        "minimum_air_pressure_at_sea_level\n"
       ]
      }
     ],
     "prompt_number": 13
    },
    {
     "cell_type": "code",
     "collapsed": false,
     "input": [
      "json = []"
     ],
     "language": "python",
     "metadata": {},
     "outputs": []
    }
   ],
   "metadata": {}
  }
 ]
}