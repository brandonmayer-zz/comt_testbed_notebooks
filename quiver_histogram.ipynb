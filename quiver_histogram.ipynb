{
 "metadata": {
  "name": "",
  "signature": "sha256:8d337d8136beb87c4fa39ff438bf01f3ed59992280f117dcb97faf30a84c4eca"
 },
 "nbformat": 3,
 "nbformat_minor": 0,
 "worksheets": [
  {
   "cells": [
    {
     "cell_type": "code",
     "collapsed": false,
     "input": [
      "import timeit\n",
      "from netCDF4 import Dataset\n",
      "import matplotlib.pyplot as plt\n",
      "import matplotlib.tri as Tri\n",
      "import pyugrid\n",
      "import numpy as np\n",
      "import cartopy.crs as ccrs\n",
      "%matplotlib inline\n",
      "url=\"http://comt.sura.org/thredds/dodsC/data/comt_1_archive/inundation_tropical/UND_ADCIRC/Hurricane_Ike_2D_final_run_without_waves\""
     ],
     "language": "python",
     "metadata": {},
     "outputs": [],
     "prompt_number": 1
    },
    {
     "cell_type": "code",
     "collapsed": false,
     "input": [
      "try:\n",
      "    ug = pyugrid.UGrid.from_ncfile(url)\n",
      "    lon = ug.nodes[:,0]\n",
      "    lat = ug.nodes[:,1]\n",
      "    nv = ug.faces[:]\n",
      "    triang = Tri.Triangulation(lon, lat, triangles=nv)\n",
      "    print \"is ugrid\"\n",
      "except:\n",
      "    print \"is not ugrid\""
     ],
     "language": "python",
     "metadata": {},
     "outputs": [
      {
       "output_type": "stream",
       "stream": "stdout",
       "text": [
        "is ugrid\n"
       ]
      }
     ],
     "prompt_number": 2
    },
    {
     "cell_type": "code",
     "collapsed": false,
     "input": [
      "nc = Dataset(url,'r')\n",
      "uvel = nc.variables['u-vel'][0,:]\n",
      "vvel = nc.variables['v-vel'][0,:]"
     ],
     "language": "python",
     "metadata": {},
     "outputs": [],
     "prompt_number": 3
    },
    {
     "cell_type": "code",
     "collapsed": false,
     "input": [
      "lonmin = -85\n",
      "lonmax = -80\n",
      "latmin = 26\n",
      "latmax = 30"
     ],
     "language": "python",
     "metadata": {},
     "outputs": [],
     "prompt_number": 4
    },
    {
     "cell_type": "code",
     "collapsed": false,
     "input": [
      "def get_lat_lon_subset_idx(lon,lat,lonmin,latmin,lonmax,latmax,padding=0.18):\n",
      "    \"\"\"\n",
      "    A function to return the indicies of lat, lon within a bounding box.\n",
      "    Padding is leftover from old sciwms code, I believe it was to include triangles\n",
      "    lying just outside the region of interest so that there are no holes in the\n",
      "    rendered image.\n",
      "    \"\"\"\n",
      "    return np.asarray(np.where(\n",
      "        (lat <= (latmax + padding)) & (lat >= (latmin - padding)) &\n",
      "        (lon <= (lonmax + padding)) & (lon >= (lonmin - padding)),)).squeeze()"
     ],
     "language": "python",
     "metadata": {},
     "outputs": [],
     "prompt_number": 6
    },
    {
     "cell_type": "code",
     "collapsed": false,
     "input": [
      "lat_lon_sub = get_lat_lon_subset_idx(lon,lat,lonmin,latmin,lonmax,latmax)"
     ],
     "language": "python",
     "metadata": {},
     "outputs": [],
     "prompt_number": 7
    },
    {
     "cell_type": "code",
     "collapsed": false,
     "input": [
      "lonstep = 1\n",
      "latstep = 1"
     ],
     "language": "python",
     "metadata": {},
     "outputs": [],
     "prompt_number": 5
    },
    {
     "cell_type": "code",
     "collapsed": false,
     "input": [
      "padding = 0.18\n",
      "lonbins = np.arange(lonmin-padding,lonmax+padding,lonstep)\n",
      "latbins = np.arange(latmin-padding,latmax+padding,latstep)"
     ],
     "language": "python",
     "metadata": {},
     "outputs": [],
     "prompt_number": 15
    },
    {
     "cell_type": "code",
     "collapsed": false,
     "input": [
      "loncenters = lonbins[:-1] + (lonbins[1:] - lonbins[:-1])/2.\n",
      "latcenters = latbins[:-1] + (latbins[1:] - latbins[:-1])/2.\n",
      "print loncenters"
     ],
     "language": "python",
     "metadata": {},
     "outputs": [
      {
       "output_type": "stream",
       "stream": "stdout",
       "text": [
        "[-84.68 -83.68 -82.68 -81.68 -80.68]\n"
       ]
      }
     ],
     "prompt_number": 35
    },
    {
     "cell_type": "code",
     "collapsed": false,
     "input": [
      "plt.plot(loncenters,[10]*len(loncenters),'r.')\n",
      "plt.plot(lonbins,[11]*len(lonbins),'go')\n",
      "plt.ylim([9.5,11.5])"
     ],
     "language": "python",
     "metadata": {},
     "outputs": [
      {
       "metadata": {},
       "output_type": "pyout",
       "prompt_number": 34,
       "text": [
        "(9.5, 11.5)"
       ]
      },
      {
       "metadata": {},
       "output_type": "display_data",
       "png": "[encoded data removed]",
       "text": [
        "<matplotlib.figure.Figure at 0x7f46b6f22fd0>"
       ]
      }
     ],
     "prompt_number": 34
    },
    {
     "cell_type": "code",
     "collapsed": false,
     "input": [
      "loncenters.shape\n",
      "latcenters.shape"
     ],
     "language": "python",
     "metadata": {},
     "outputs": [
      {
       "metadata": {},
       "output_type": "pyout",
       "prompt_number": 39,
       "text": [
        "(4,)"
       ]
      }
     ],
     "prompt_number": 39
    },
    {
     "cell_type": "code",
     "collapsed": false,
     "input": [
      "X, Y = np.meshgrid(lonbins, latbins)\n",
      "Xc, Yc = np.meshgrid(loncenters,latcenters)"
     ],
     "language": "python",
     "metadata": {},
     "outputs": [],
     "prompt_number": 44
    },
    {
     "cell_type": "code",
     "collapsed": false,
     "input": [
      "plt.plot(X,Y,'ro')\n",
      "plt.plot(Xc,Yc,'go')"
     ],
     "language": "python",
     "metadata": {},
     "outputs": [
      {
       "metadata": {},
       "output_type": "pyout",
       "prompt_number": 45,
       "text": [
        "[<matplotlib.lines.Line2D at 0x7f46b6bf5f50>,\n",
        " <matplotlib.lines.Line2D at 0x7f46b6b96c50>,\n",
        " <matplotlib.lines.Line2D at 0x7f46b6b96dd0>,\n",
        " <matplotlib.lines.Line2D at 0x7f46b6b96f50>,\n",
        " <matplotlib.lines.Line2D at 0x7f46b6b9f110>]"
       ]
      },
      {
       "metadata": {},
       "output_type": "display_data",
       "png": "[encoded data removed]",
       "text": [
        "<matplotlib.figure.Figure at 0x7f46b6d09ad0>"
       ]
      }
     ],
     "prompt_number": 45
    },
    {
     "cell_type": "code",
     "collapsed": false,
     "input": [
      "lonpos = np.digitize(lon[lat_lon_sub],lonbins)\n",
      "latpos = np.digitize(lat[lat_lon_sub],lonbins)\n",
      "print lonpos\n",
      "print latpos"
     ],
     "language": "python",
     "metadata": {},
     "outputs": [
      {
       "output_type": "stream",
       "stream": "stdout",
       "text": [
        "[1 1 1 ..., 4 4 4]\n",
        "[6 6 6 ..., 6 6 6]\n"
       ]
      }
     ],
     "prompt_number": 62
    },
    {
     "cell_type": "code",
     "collapsed": false,
     "input": [
      "print lonpos.shape\n",
      "print latpos.shape"
     ],
     "language": "python",
     "metadata": {},
     "outputs": [
      {
       "output_type": "stream",
       "stream": "stdout",
       "text": [
        "(7089,)\n",
        "(7089,)\n"
       ]
      }
     ],
     "prompt_number": 50
    },
    {
     "cell_type": "code",
     "collapsed": false,
     "input": [
      "angles = np.arctan2(uvel[lat_lon_sub],vvel[lat_lon_sub])* (180./np.pi)"
     ],
     "language": "python",
     "metadata": {},
     "outputs": [],
     "prompt_number": 54
    },
    {
     "cell_type": "code",
     "collapsed": false,
     "input": [
      "print angles\n",
      "print angles.shape"
     ],
     "language": "python",
     "metadata": {},
     "outputs": [
      {
       "output_type": "stream",
       "stream": "stdout",
       "text": [
        "[ 162.85899246  163.7672183   176.54503192 ...,  125.67171071  122.17677643\n",
        "  117.36631762]\n",
        "(7089,)\n"
       ]
      }
     ],
     "prompt_number": 58
    },
    {
     "cell_type": "code",
     "collapsed": false,
     "input": [
      "ntheta = 10"
     ],
     "language": "python",
     "metadata": {},
     "outputs": [],
     "prompt_number": 110
    },
    {
     "cell_type": "code",
     "collapsed": false,
     "input": [
      "theta_bins = np.arange(0,360,ntheta)\n",
      "print theta_bins"
     ],
     "language": "python",
     "metadata": {},
     "outputs": [
      {
       "output_type": "stream",
       "stream": "stdout",
       "text": [
        "[  0  10  20  30  40  50  60  70  80  90 100 110 120 130 140 150 160 170\n",
        " 180 190 200 210 220 230 240 250 260 270 280 290 300 310 320 330 340 350]\n"
       ]
      }
     ],
     "prompt_number": 111
    },
    {
     "cell_type": "code",
     "collapsed": false,
     "input": [
      "ax = plt.axes()\n",
      "y = 1./(np.tan(theta_bins[0])**2 + 1)\n",
      "x = np.sqrt(1-y**2)\n",
      "print \"y = {0}\".format(y)\n",
      "ax.arrow(loncenters[0], latcenters[1], x, y, alpha = 0.5, linewidth=2, head_width=0.1)\n",
      "plt.xlim([lonmin,lonmax])\n",
      "plt.ylim([latmin,latmax])"
     ],
     "language": "python",
     "metadata": {},
     "outputs": [
      {
       "output_type": "stream",
       "stream": "stdout",
       "text": [
        "y = 1.0\n"
       ]
      },
      {
       "metadata": {},
       "output_type": "pyout",
       "prompt_number": 91,
       "text": [
        "(26, 30)"
       ]
      },
      {
       "metadata": {},
       "output_type": "display_data",
       "png": "[encoded data removed]",
       "text": [
        "<matplotlib.figure.Figure at 0x7f46b66ec690>"
       ]
      }
     ],
     "prompt_number": 91
    },
    {
     "cell_type": "code",
     "collapsed": false,
     "input": [
      "ax = plt.axes()\n",
      "scale = 0.5\n",
      "for theta in theta_bins:\n",
      "    print theta\n",
      "    dy = np.sin(theta)\n",
      "    dx = np.cos(theta)\n",
      "    print \"dx = {0}, dy = {1}\".format(dx, dy)\n",
      "    \n",
      "    ax.arrow(loncenters[3], latcenters[2], dx*scale, dy*scale, alpha = 0.5, linewidth=2, head_width=0.1)\n",
      "    plt.xlim([lonmin,lonmax])\n",
      "    plt.ylim([latmin,latmax])"
     ],
     "language": "python",
     "metadata": {},
     "outputs": [
      {
       "output_type": "stream",
       "stream": "stdout",
       "text": [
        "0\n",
        "dx = 1.0, dy = 0.0\n",
        "10\n",
        "dx = -0.839071529076, dy = -0.544021110889\n",
        "20\n",
        "dx = 0.408082061813, dy = 0.912945250728\n",
        "30\n",
        "dx = 0.154251449888, dy = -0.988031624093\n",
        "40\n",
        "dx = -0.666938061652, dy = 0.745113160479\n",
        "50\n",
        "dx = 0.964966028492, dy = -0.262374853704\n",
        "60\n",
        "dx = -0.952412980415, dy = -0.304810621102\n",
        "70\n",
        "dx = 0.633319203086, dy = 0.773890681558\n",
        "80\n",
        "dx = -0.110387243839, dy = -0.993888653923\n",
        "90\n",
        "dx = -0.448073616129, dy = 0.893996663601\n",
        "100\n",
        "dx = 0.862318872288, dy = -0.50636564111\n",
        "110\n",
        "dx = -0.999020813315, dy = -0.0442426780851\n",
        "120\n",
        "dx = 0.814180970527, dy = 0.580611184212\n",
        "130\n",
        "dx = -0.367291330455, dy = -0.930105950187\n",
        "140\n",
        "dx = -0.197813574004, dy = 0.98023965944\n",
        "150\n",
        "dx = 0.699250806478, dy = -0.714876429629\n",
        "160\n",
        "dx = -0.975629312795, dy = 0.219425258379\n",
        "170\n",
        "dx = 0.937994752119, dy = 0.346649455497\n",
        "180\n",
        "dx = -0.598460069058, dy = -0.801152635734\n",
        "190\n",
        "dx = 0.0663068583517, dy = 0.997799278681\n",
        "200\n",
        "dx = 0.487187675007, dy = -0.873297297214\n",
        "210\n",
        "dx = -0.883877473182, dy = 0.467718518343\n",
        "220\n",
        "dx = 0.996085170872, dy = 0.0883987124875\n",
        "230\n",
        "dx = -0.787695941645, dy = -0.616064204053\n",
        "240\n",
        "dx = 0.325781305535, dy = 0.945445154921\n",
        "250\n",
        "dx = 0.240988305285, dy = -0.970528019542\n",
        "260\n",
        "dx = -0.730194157146, dy = 0.683239703816\n",
        "270\n",
        "dx = 0.984381950633, dy = -0.176045946471\n",
        "280\n",
        "dx = -0.921739579879, dy = -0.387809420829\n",
        "290\n",
        "dx = 0.562428926767, dy = 0.826845633922\n",
        "300\n",
        "dx = -0.0220966192787, dy = -0.999755839901\n",
        "310\n",
        "dx = -0.525347638516, dy = 0.850887688656\n",
        "320\n",
        "dx = 0.903705111971, dy = -0.428155428084\n",
        "330\n",
        "dx = -0.991198821755, dy = -0.132381629205\n",
        "340\n",
        "dx = 0.759668310007, dy = 0.650310740163\n",
        "350\n",
        "dx = -0.283633279182, dy = -0.958932825041\n"
       ]
      },
      {
       "metadata": {},
       "output_type": "display_data",
       "png": "[encoded data removed]",
       "text": [
        "<matplotlib.figure.Figure at 0x7f46b6499e90>"
       ]
      }
     ],
     "prompt_number": 113
    },
    {
     "cell_type": "code",
     "collapsed": false,
     "input": [
      "theta_bins"
     ],
     "language": "python",
     "metadata": {},
     "outputs": [
      {
       "metadata": {},
       "output_type": "pyout",
       "prompt_number": 102,
       "text": [
        "array([  0,  36,  72, 108, 144, 180, 216, 252, 288, 324])"
       ]
      }
     ],
     "prompt_number": 102
    },
    {
     "cell_type": "code",
     "collapsed": false,
     "input": [
      "np.tan(theta_bins)*(180./np.pi)"
     ],
     "language": "python",
     "metadata": {},
     "outputs": [
      {
       "metadata": {},
       "output_type": "pyout",
       "prompt_number": 104,
       "text": [
        "array([   0.        ,  444.06927214,  -15.0354082 ,  141.41526355,\n",
        "        -32.29472412,   76.70129913,  -55.54601978,   45.63464286,\n",
        "        -94.66436345,   25.30935601])"
       ]
      }
     ],
     "prompt_number": 104
    },
    {
     "cell_type": "code",
     "collapsed": false,
     "input": [],
     "language": "python",
     "metadata": {},
     "outputs": []
    }
   ],
   "metadata": {}
  }
 ]
}