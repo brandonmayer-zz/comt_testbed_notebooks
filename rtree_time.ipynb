{
 "metadata": {
  "name": "",
  "signature": "sha256:8ba34e0161b26a3527ea0acc33439fec917184469eb33b41ceb7445b19c06731"
 },
 "nbformat": 3,
 "nbformat_minor": 0,
 "worksheets": [
  {
   "cells": [
    {
     "cell_type": "code",
     "collapsed": false,
     "input": [
      "import os\n",
      "\n",
      "import time\n",
      "\n",
      "from netCDF4 import Dataset\n",
      "import pyugrid\n",
      "import numpy as np\n",
      "\n",
      "import rtree\n",
      "\n",
      "url=\"http://comt.sura.org/thredds/dodsC/data/comt_1_archive/inundation_tropical/UND_ADCIRC/Hurricane_Ike_2D_final_run_without_waves\""
     ],
     "language": "python",
     "metadata": {},
     "outputs": [],
     "prompt_number": 18
    },
    {
     "cell_type": "code",
     "collapsed": false,
     "input": [
      "nc = Dataset(url,'r')\n",
      "ug = pyugrid.UGrid.from_nc_dataset(nc)"
     ],
     "language": "python",
     "metadata": {},
     "outputs": [],
     "prompt_number": 10
    },
    {
     "cell_type": "code",
     "collapsed": false,
     "input": [
      "longitude = ug.nodes[:,0]\n",
      "latitude  = ug.nodes[:,1]\n",
      "faces     = ug.faces[:,:]\n",
      "nfaces = len(faces)\n",
      "print faces.shape,longitude.shape, latitude.shape"
     ],
     "language": "python",
     "metadata": {},
     "outputs": [
      {
       "output_type": "stream",
       "stream": "stdout",
       "text": [
        "(826866, 3) (417642,) (417642,)\n"
       ]
      }
     ],
     "prompt_number": 49
    },
    {
     "cell_type": "code",
     "collapsed": false,
     "input": [
      "class FastRtree(rtree.Rtree):\n",
      "    def dumps(self, obj):\n",
      "        try:\n",
      "            import cPickle\n",
      "            return cPickle.dumps(obj,-1)\n",
      "        except ImportError:\n",
      "            super(FastRtree, self).dumps(obj)"
     ],
     "language": "python",
     "metadata": {},
     "outputs": [],
     "prompt_number": 50
    },
    {
     "cell_type": "code",
     "collapsed": false,
     "input": [
      "rtree_normal_start = time.time()\n",
      "\n",
      "p = rtree.index.Property()\n",
      "p.overwrite=True\n",
      "p.filename=\"rtree_normal\"\n",
      "p.storage=rtree.index.RT_Disk\n",
      "p.dimension=2\n",
      "\n",
      "rtree_normal = rtree.index.Index(p.filename,\n",
      "                                 properties=p,\n",
      "                                 overwrite=True,\n",
      "                                 interleaved=True)\n",
      "for face_idx, node_idx_list in enumerate(faces):\n",
      "    nodes = ug.nodes[node_idx_list]\n",
      "    xmin, ymin = np.min(nodes,0)\n",
      "    xmax, ymax = np.max(nodes,0)\n",
      "    \n",
      "    rtree_normal.insert(face_idx, (xmin,ymin,xmax,ymax), node_idx_list)\n",
      "rtree_normal_end = time.time()\n",
      "print \"Loaded {0} faces in {1} seconds.\".format(nfaces, rtree_normal_end - rtree_normal_start)"
     ],
     "language": "python",
     "metadata": {},
     "outputs": [
      {
       "output_type": "stream",
       "stream": "stdout",
       "text": [
        "Loaded 826866 faces in 132.469746113 seconds.\n"
       ]
      }
     ],
     "prompt_number": 51
    },
    {
     "cell_type": "code",
     "collapsed": false,
     "input": [
      "rtree_fast_start = time.time()\n",
      "p.filename=\"rtree_fast\"\n",
      "rtree_fast = FastRtree(p.filename,\n",
      "                       properties=p,\n",
      "                       overwrite=True,\n",
      "                       interleaved=True)\n",
      "for face_idx, node_idx_list in enumerate(faces):\n",
      "    nodes = ug.nodes[node_idx_list]\n",
      "    xmin, ymin = np.min(nodes,0)\n",
      "    xmax, ymax = np.max(nodes,0)\n",
      "    \n",
      "    rtree_fast.insert(face_idx, (xmin,ymin,xmax,ymax), node_idx_list)\n",
      "rtree_fast_end = time.time()\n",
      "print \"Loaded {0} faces in {1} seconds.\".format(nfaces, rtree_fast_end - rtree_fast_start)\n",
      "    "
     ],
     "language": "python",
     "metadata": {},
     "outputs": [
      {
       "output_type": "stream",
       "stream": "stdout",
       "text": [
        "Loaded 826866 faces in 125.639171839 seconds.\n"
       ]
      }
     ],
     "prompt_number": 52
    },
    {
     "cell_type": "code",
     "collapsed": false,
     "input": [
      "p.filename=\"rtree_preload\"\n",
      "\n",
      "def generator_function():\n",
      "    for face_idx, node_idx_list in enumerate(faces):\n",
      "        nodes = ug.nodes[node_idx_list]\n",
      "        xmin, ymin = np.min(nodes,0)\n",
      "        xmax, ymax = np.max(nodes,0)\n",
      "        yield (face_idx, (xmin,ymin,xmax,ymax), node_idx_list)\n",
      "        \n",
      "rtree_preload_start = time.time()\n",
      "rtree_preload = rtree.Rtree(p.filename,\n",
      "                            generator_function(),\n",
      "                            properties=p,\n",
      "                            overwrite=True,\n",
      "                            interleaved=True)\n",
      "rtree_preload_end = time.time()\n",
      "print \"Loaded {0} faces in {1} seconds.\".format(nfaces, rtree_preload_end - rtree_preload_start)\n"
     ],
     "language": "python",
     "metadata": {},
     "outputs": [
      {
       "output_type": "stream",
       "stream": "stdout",
       "text": [
        "Loaded 826866 faces in 64.0074760914 seconds.\n"
       ]
      }
     ],
     "prompt_number": 65
    },
    {
     "cell_type": "code",
     "collapsed": false,
     "input": [
      "p.filename=\"rtree_preload_fast\"\n",
      "\n",
      "rtree_preload_fast_start = time.time()\n",
      "rtree_preload = FastRtree(p.filename,\n",
      "                          generator_function(),\n",
      "                          properties=p,\n",
      "                          overwrite=True,\n",
      "                          interleaved=True)\n",
      "rtree_preload_fast_end = time.time()\n",
      "print \"Loaded {0} faces in {1} seconds.\".format(nfaces, rtree_preload_fast_end - rtree_preload_fast_start)"
     ],
     "language": "python",
     "metadata": {},
     "outputs": [
      {
       "output_type": "stream",
       "stream": "stdout",
       "text": [
        "Loaded 826866 faces in 61.1139240265 seconds.\n"
       ]
      }
     ],
     "prompt_number": 66
    },
    {
     "cell_type": "code",
     "collapsed": false,
     "input": [
      "import matplotlib.pyplot as plt\n",
      "%matplotlib inline\n",
      "\n",
      "times = [rtree_normal_end       - rtree_normal_start,\n",
      "         rtree_fast_end         - rtree_fast_start,\n",
      "         rtree_preload_end      - rtree_preload_start,\n",
      "         rtree_preload_fast_end - rtree_preload_fast_start]\n",
      "\n",
      "labels = [\"Naive\", \"FastRtree\", \"Preload\", \"Preload FastRtree\"]\n",
      "label_pos = np.arange(len(labels)) - 0.5\n",
      "\n",
      "fig, ax = plt.subplots()\n",
      "\n",
      "bar_width = 0.35\n",
      "\n",
      "opacity = 0.4\n",
      "ax.bar(label_pos, times, alpha=opacity, color='b')\n",
      "plt.xticks(label_pos + bar_width, labels)\n",
      "\n"
     ],
     "language": "python",
     "metadata": {},
     "outputs": [
      {
       "metadata": {},
       "output_type": "pyout",
       "prompt_number": 67,
       "text": [
        "([<matplotlib.axis.XTick at 0x7f545abe0e50>,\n",
        "  <matplotlib.axis.XTick at 0x7f545aaad110>,\n",
        "  <matplotlib.axis.XTick at 0x7f545aa8e4d0>,\n",
        "  <matplotlib.axis.XTick at 0x7f545aa8ead0>],\n",
        " <a list of 4 Text xticklabel objects>)"
       ]
      },
      {
       "metadata": {},
       "output_type": "display_data",
       "png": "[encoded data removed]",
       "text": [
        "<matplotlib.figure.Figure at 0x7f545af5bf50>"
       ]
      }
     ],
     "prompt_number": 67
    },
    {
     "cell_type": "code",
     "collapsed": false,
     "input": [],
     "language": "python",
     "metadata": {},
     "outputs": []
    }
   ],
   "metadata": {}
  }
 ]
}