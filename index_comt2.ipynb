{
 "metadata": {
  "name": "",
  "signature": "sha256:55a61b85a0f108c35f79f2abb6134978f1a3889166f70138fb844af30f4304ac"
 },
 "nbformat": 3,
 "nbformat_minor": 0,
 "worksheets": [
  {
   "cells": [
    {
     "cell_type": "code",
     "collapsed": false,
     "input": [
      "import logging\n",
      "import multiprocessing\n",
      "import os\n",
      "import re\n",
      "import sys\n",
      "import traceback\n",
      "import time\n",
      "\n",
      "from owslib import fes, csw\n",
      "from netCDF4 import Dataset as ncDataset\n",
      "from netCDF4 import num2date, date2num\n",
      "\n",
      "import django\n",
      "os.environ.setdefault(\"DJANGO_SETTINGS_MODULE\", \"sciwms.settings.defaults\")"
     ],
     "language": "python",
     "metadata": {},
     "outputs": [
      {
       "metadata": {},
       "output_type": "pyout",
       "prompt_number": 1,
       "text": [
        "'sciwms.settings.defaults'"
       ]
      }
     ],
     "prompt_number": 1
    },
    {
     "cell_type": "code",
     "collapsed": false,
     "input": [
      "comt2 = {}\n",
      "comt2['pr_inundation_tropical'] = {}\n",
      "\n",
      "#UND ADCIRCSWAN\n",
      "comt2['pr_inundation_tropical']['Hurricane_Georges_2D_prelim_no_waves_fort_63_nc']={}\n",
      "comt2['pr_inundation_tropical']['Hurricane_Georges_2D_prelim_no_waves_fort_63_nc']['url'] = 'http://comt.sura.org/thredds/dodsC/comt_2_full/pr_inundation_tropical/UND_ADCIRCSWAN/Hurricane_Georges_2D_prelim_no_waves/Output/fort.63.nc'\n",
      "comt2['pr_inundation_tropical']['Hurricane_Georges_2D_prelim_no_waves_fort_63_nc']['variables'] = ['zeta']\n",
      "\n",
      "comt2['pr_inundation_tropical']['Hurricane_Georges_2D_prelim_no_waves_fort_74_nc']={}\n",
      "comt2['pr_inundation_tropical']['Hurricane_Georges_2D_prelim_no_waves_fort_74_nc']['url'] = 'http://comt.sura.org/thredds/dodsC/comt_2_full/pr_inundation_tropical/UND_ADCIRCSWAN/Hurricane_Georges_2D_prelim_no_waves/Output/fort.74.nc'\n",
      "comt2['pr_inundation_tropical']['Hurricane_Georges_2D_prelim_no_waves_fort_74_nc']['variables']=['windx,windy']\n",
      "\n",
      "#EMC ADCIRC-WW3\n",
      "comt2['pr_inundation_tropical']['Dec2013Storm_2D_preliminary_run_1_waves_only'] = {}\n",
      "comt2['pr_inundation_tropical']['Dec2013Storm_2D_preliminary_run_1_waves_only']['url'] = 'http://comt.sura.org/thredds/dodsC/comt_2_full/pr_inundation_tropical/EMC_ADCIRC-WW3/Dec2013Storm_2D_preliminary_run_1_waves_only/00_dir.ncml'\n",
      "comt2['pr_inundation_tropical']['Dec2013Storm_2D_preliminary_run_1_waves_only']['variables']=['u,v','hs','wlv','U10,V10']\n",
      "\n",
      "#NRL Delft3D\n",
      "comt2['pr_inundation_tropical']['Hurricane_Ike_2D_preliminary_run_1_without_waves'] = {}\n",
      "comt2['pr_inundation_tropical']['Hurricane_Ike_2D_preliminary_run_1_without_waves']['url'] = 'http://comt.sura.org/thredds/dodsC/comt_2_full/pr_inundation_tropical/NRL_Delft3D/Hurricane_Ike_2D_preliminary_run_1_without_waves/00_dir.ncml'\n",
      "comt2['pr_inundation_tropical']['Hurricane_Ike_2D_preliminary_run_1_without_waves']['variables']=['waterlevel','velocity_x,velocity_y']"
     ],
     "language": "python",
     "metadata": {},
     "outputs": [],
     "prompt_number": 56
    },
    {
     "cell_type": "code",
     "collapsed": false,
     "input": [
      "for name in comt2['pr_inundation_tropical'].keys():\n",
      "    print name\n",
      "    print comt2['pr_inundation_tropical'][name]['url']\n",
      "    print comt2['pr_inundation_tropical'][name]['variables']\n",
      "    \n",
      "    "
     ],
     "language": "python",
     "metadata": {},
     "outputs": [
      {
       "output_type": "stream",
       "stream": "stdout",
       "text": [
        "Hurricane_Georges_2D_prelim_no_waves_fort_63_nc\n",
        "http://comt.sura.org/thredds/dodsC/comt_2_full/pr_inundation_tropical/UND_ADCIRCSWAN/Hurricane_Georges_2D_prelim_no_waves/Output/fort.63.nc\n",
        "['zeta']\n",
        "Dec2013Storm_2D_preliminary_run_1_waves_only\n",
        "http://comt.sura.org/thredds/dodsC/comt_2_full/pr_inundation_tropical/EMC_ADCIRC-WW3/Dec2013Storm_2D_preliminary_run_1_waves_only/00_dir.ncml\n",
        "['u,v', 'hs', 'wlv', 'U10,V10']\n",
        "Hurricane_Ike_2D_preliminary_run_1_without_waves\n",
        "http://comt.sura.org/thredds/dodsC/comt_2_full/pr_inundation_tropical/NRL_Delft3D/Hurricane_Ike_2D_preliminary_run_1_without_waves/00_dir.ncml\n",
        "['waterlevel', 'velocity_x,velocity_y']\n",
        "Hurricane_Georges_2D_prelim_no_waves_fort_74_nc\n",
        "http://comt.sura.org/thredds/dodsC/comt_2_full/pr_inundation_tropical/UND_ADCIRCSWAN/Hurricane_Georges_2D_prelim_no_waves/Output/fort.74.nc\n",
        "['windx,windy']\n"
       ]
      }
     ],
     "prompt_number": 55
    },
    {
     "cell_type": "code",
     "collapsed": false,
     "input": [],
     "language": "python",
     "metadata": {},
     "outputs": []
    }
   ],
   "metadata": {}
  }
 ]
}