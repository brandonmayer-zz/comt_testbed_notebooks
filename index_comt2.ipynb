{
 "metadata": {
  "name": "",
  "signature": "sha256:1623a7faa162f076b3e9bb59ed189a8e2d80887be0749d2fa8fbf73161d73fa9"
 },
 "nbformat": 3,
 "nbformat_minor": 0,
 "worksheets": [
  {
   "cells": [
    {
     "cell_type": "code",
     "collapsed": false,
     "input": [
      "import logging\n",
      "import multiprocessing\n",
      "import os\n",
      "import re\n",
      "import sys\n",
      "import traceback\n",
      "import time\n",
      "\n",
      "from owslib import fes, csw\n",
      "from netCDF4 import Dataset as ncDataset\n",
      "from netCDF4 import num2date, date2num\n",
      "\n",
      "import django\n",
      "os.environ.setdefault(\"DJANGO_SETTINGS_MODULE\", \"sciwms.settings.defaults\")"
     ],
     "language": "python",
     "metadata": {},
     "outputs": [
      {
       "metadata": {},
       "output_type": "pyout",
       "prompt_number": 1,
       "text": [
        "'sciwms.settings.defaults'"
       ]
      }
     ],
     "prompt_number": 1
    },
    {
     "cell_type": "code",
     "collapsed": false,
     "input": [
      "comt2 = {\"pr_inundation_tropical\":{\"Hurricane_Georges_2D_prelim_no_waves\":{\"fort.63.nc\":{\"url\":\"http://comt.sura.org/thredds/dodsC/comt_2_full/pr_inundation_tropical/UND_ADCIRCSWAN/Hurricane_Georges_2D_prelim_no_waves/Output/fort.63.nc\"},'fort.74.nc':{\"url\":\"http://comt.sura.org/thredds/dodsC/comt_2_full/pr_inundation_tropical/UND_ADCIRCSWAN/Hurricane_Georges_2D_prelim_no_waves/Output/fort.74.nc\"}}},\"Dec2013Storm_2D_preliminary_run_1_waves_only\":{'url':\"http://comt.sura.org/thredds/dodsC/comt_2_full/pr_inundation_tropical/EMC_ADCIRC-WW3/Dec2013Storm_2D_preliminary_run_1_waves_only/00_dir.ncml\"}}"
     ],
     "language": "python",
     "metadata": {},
     "outputs": [],
     "prompt_number": 13
    },
    {
     "cell_type": "code",
     "collapsed": false,
     "input": [
      "comt2.keys()\n"
     ],
     "language": "python",
     "metadata": {},
     "outputs": [
      {
       "metadata": {},
       "output_type": "pyout",
       "prompt_number": 14,
       "text": [
        "['Dec2013Storm_2D_preliminary_run_1_waves_only', 'pr_inundation_tropical']"
       ]
      }
     ],
     "prompt_number": 14
    },
    {
     "cell_type": "code",
     "collapsed": false,
     "input": [
      "comt2['pr_inundation_tropical']"
     ],
     "language": "python",
     "metadata": {},
     "outputs": [
      {
       "metadata": {},
       "output_type": "pyout",
       "prompt_number": 15,
       "text": [
        "{'Hurricane_Georges_2D_prelim_no_waves': {'fort.63.nc': {'url': 'http://comt.sura.org/thredds/dodsC/comt_2_full/pr_inundation_tropical/UND_ADCIRCSWAN/Hurricane_Georges_2D_prelim_no_waves/Output/fort.63.nc'},\n",
        "  'fort.74.nc': {'url': 'http://comt.sura.org/thredds/dodsC/comt_2_full/pr_inundation_tropical/UND_ADCIRCSWAN/Hurricane_Georges_2D_prelim_no_waves/Output/fort.74.nc'}}}"
       ]
      }
     ],
     "prompt_number": 15
    },
    {
     "cell_type": "code",
     "collapsed": false,
     "input": [
      "comt2['pr_inundation_tropical']['Hurricane_Georges_2D_prelim_no_waves']"
     ],
     "language": "python",
     "metadata": {},
     "outputs": [
      {
       "metadata": {},
       "output_type": "pyout",
       "prompt_number": 16,
       "text": [
        "{'fort.63.nc': {'url': 'http://comt.sura.org/thredds/dodsC/comt_2_full/pr_inundation_tropical/UND_ADCIRCSWAN/Hurricane_Georges_2D_prelim_no_waves/Output/fort.63.nc'},\n",
        " 'fort.74.nc': {'url': 'http://comt.sura.org/thredds/dodsC/comt_2_full/pr_inundation_tropical/UND_ADCIRCSWAN/Hurricane_Georges_2D_prelim_no_waves/Output/fort.74.nc'}}"
       ]
      }
     ],
     "prompt_number": 16
    },
    {
     "cell_type": "code",
     "collapsed": false,
     "input": [
      "comt2['pr_inundation_tropical']['Hurricane_Georges_2D_prelim_no_waves']['fort.63.nc']"
     ],
     "language": "python",
     "metadata": {},
     "outputs": [
      {
       "metadata": {},
       "output_type": "pyout",
       "prompt_number": 17,
       "text": [
        "{'url': 'http://comt.sura.org/thredds/dodsC/comt_2_full/pr_inundation_tropical/UND_ADCIRCSWAN/Hurricane_Georges_2D_prelim_no_waves/Output/fort.63.nc'}"
       ]
      }
     ],
     "prompt_number": 17
    },
    {
     "cell_type": "code",
     "collapsed": false,
     "input": [
      "comt2['pr_inundation_tropical']['Dec2013Storm_2D_preliminary_run_1_waves_only']"
     ],
     "language": "python",
     "metadata": {},
     "outputs": [
      {
       "ename": "KeyError",
       "evalue": "'Dec2013Storm_2D_preliminary_run_1_waves_only'",
       "output_type": "pyerr",
       "traceback": [
        "\u001b[1;31m---------------------------------------------------------------------------\u001b[0m\n\u001b[1;31mKeyError\u001b[0m                                  Traceback (most recent call last)",
        "\u001b[1;32m<ipython-input-18-9a203aa3c82a>\u001b[0m in \u001b[0;36m<module>\u001b[1;34m()\u001b[0m\n\u001b[1;32m----> 1\u001b[1;33m \u001b[0mcomt2\u001b[0m\u001b[1;33m[\u001b[0m\u001b[1;34m'pr_inundation_tropical'\u001b[0m\u001b[1;33m]\u001b[0m\u001b[1;33m[\u001b[0m\u001b[1;34m'Dec2013Storm_2D_preliminary_run_1_waves_only'\u001b[0m\u001b[1;33m]\u001b[0m\u001b[1;33m\u001b[0m\u001b[0m\n\u001b[0m",
        "\u001b[1;31mKeyError\u001b[0m: 'Dec2013Storm_2D_preliminary_run_1_waves_only'"
       ]
      }
     ],
     "prompt_number": 18
    },
    {
     "cell_type": "code",
     "collapsed": false,
     "input": [
      "comt2 = {\"pr_inundation_tropical\":{\"Hurricane_Georges_2D_prelim_no_waves\":{\"fort.63.nc\":{\"url\":\"http://comt.sura.org/thredds/dodsC/comt_2_full/pr_inundation_tropical/UND_ADCIRCSWAN/Hurricane_Georges_2D_prelim_no_waves/Output/fort.63.nc\"},'fort.74.nc':{\"url\":\"http://comt.sura.org/thredds/dodsC/comt_2_full/pr_inundation_tropical/UND_ADCIRCSWAN/Hurricane_Georges_2D_prelim_no_waves/Output/fort.74.nc\"}},\"Dec2013Storm_2D_preliminary_run_1_waves_only\":{'url':\"http://comt.sura.org/thredds/dodsC/comt_2_full/pr_inundation_tropical/EMC_ADCIRC-WW3/Dec2013Storm_2D_preliminary_run_1_waves_only/00_dir.ncml\"}}}"
     ],
     "language": "python",
     "metadata": {},
     "outputs": [],
     "prompt_number": 25
    },
    {
     "cell_type": "code",
     "collapsed": false,
     "input": [
      "comt2['pr_inundation_tropical'].keys()"
     ],
     "language": "python",
     "metadata": {},
     "outputs": [
      {
       "metadata": {},
       "output_type": "pyout",
       "prompt_number": 27,
       "text": [
        "['Dec2013Storm_2D_preliminary_run_1_waves_only',\n",
        " 'Hurricane_Georges_2D_prelim_no_waves']"
       ]
      }
     ],
     "prompt_number": 27
    },
    {
     "cell_type": "code",
     "collapsed": false,
     "input": [
      "comt2['pr_inundation_tropical']['Dec2013Storm_2D_preliminary_run_1_waves_only']"
     ],
     "language": "python",
     "metadata": {},
     "outputs": [
      {
       "metadata": {},
       "output_type": "pyout",
       "prompt_number": 28,
       "text": [
        "{'url': 'http://comt.sura.org/thredds/dodsC/comt_2_full/pr_inundation_tropical/EMC_ADCIRC-WW3/Dec2013Storm_2D_preliminary_run_1_waves_only/00_dir.ncml'}"
       ]
      }
     ],
     "prompt_number": 28
    },
    {
     "cell_type": "code",
     "collapsed": false,
     "input": [
      "comt2['pr_inundation_tropical'] = {}\n",
      "\n",
      "#UND ADCIRCSWAN\n",
      "comt2['pr_inundation_tropical']['Hurricane_Georges_2D_prelim_no_waves'] = {}\n",
      "comt2['pr_inundation_tropical']['Hurricane_Georges_2D_prelim_no_waves']['fort.63.nc']={}\n",
      "comt2['pr_inundation_tropical']['Hurricane_Georges_2D_prelim_no_waves']['fort.63.nc']['url'] = 'http://comt.sura.org/thredds/dodsC/comt_2_full/pr_inundation_tropical/UND_ADCIRCSWAN/Hurricane_Georges_2D_prelim_no_waves/Output/fort.63.nc'\n",
      "comt2['pr_inundation_tropical']['Hurricane_Georges_2d_prelim_no_waves']['fort.63.nc']['variables'] = ['zeta']\n",
      "\n",
      "comt2['pr_inundation_tropical']['Hurricane_Georges_2D_prelim_no_waves']['fort.74.nc']={}\n",
      "comt2['pr_inundation_tropical']['Hurricane_Georges_2D_prelim_no_waves']['fort.74.nc']['url'] = 'http://comt.sura.org/thredds/dodsC/comt_2_full/pr_inundation_tropical/UND_ADCIRCSWAN/Hurricane_Georges_2D_prelim_no_waves/Output/fort.74.nc'\n",
      "comt2['pr_inundation_tropical']['Hurricane_Georges_2D_prelim_no_waves']['fort.74.nc']['variables']=['windx,windy']\n",
      "\n",
      "#EMC ADCIRC-WW3\n",
      "comt2['pr_inundation_tropical']['Dec2013Storm_2D_preliminary_run_1_waves_only'] = {}\n",
      "comt2['pr_inundation_tropical']['Dec2013Storm_2D_preliminary_run_1_waves_only']['url'] = 'http://comt.sura.org/thredds/dodsC/comt_2_full/pr_inundation_tropical/EMC_ADCIRC-WW3/Dec2013Storm_2D_preliminary_run_1_waves_only/00_dir.ncml'\n",
      "\n",
      "#NRL Delft3D\n",
      "comt2['pr_inundation_tropical']['Hurricane_Ike_2D_preliminary_run_1_without_waves'] = {}\n",
      "comt2['pr_inundation_tropical']['Hurricane_Ike_2D_preliminary_run_1_without_waves']['url'] = 'http://comt.sura.org/thredds/dodsC/comt_2_full/pr_inundation_tropical/NRL_Delft3D/Hurricane_Ike_2D_preliminary_run_1_without_waves/00_dir.ncml'\n"
     ],
     "language": "python",
     "metadata": {},
     "outputs": [],
     "prompt_number": 39
    },
    {
     "cell_type": "code",
     "collapsed": false,
     "input": [
      "print comt2"
     ],
     "language": "python",
     "metadata": {},
     "outputs": [
      {
       "output_type": "stream",
       "stream": "stdout",
       "text": [
        "{'pr_inundation_tropical': {'Dec2013Storm_2D_preliminary_run_1_waves_only': {'url': 'http://comt.sura.org/thredds/dodsC/comt_2_full/pr_inundation_tropical/EMC_ADCIRC-WW3/Dec2013Storm_2D_preliminary_run_1_waves_only/00_dir.ncml'}, 'Hurricane_Ike_2D_preliminary_run_1_without_waves': {'url': 'http://comt.sura.org/thredds/dodsC/comt_2_full/pr_inundation_tropical/NRL_Delft3D/Hurricane_Ike_2D_preliminary_run_1_without_waves/00_dir.ncml'}, 'Hurricane_Georges_2D_prelim_no_waves': {'fort.63.nc': {'url': 'http://comt.sura.org/thredds/dodsC/comt_2_full/pr_inundation_tropical/UND_ADCIRCSWAN/Hurricane_Georges_2D_prelim_no_waves/Output/fort.63.nc'}, 'fort.74.nc': {'url': 'http://comt.sura.org/thredds/dodsC/comt_2_full/pr_inundation_tropical/UND_ADCIRCSWAN/Hurricane_Georges_2D_prelim_no_waves/Output/fort.74.nc'}}}}\n"
       ]
      }
     ],
     "prompt_number": 38
    },
    {
     "cell_type": "code",
     "collapsed": false,
     "input": [],
     "language": "python",
     "metadata": {},
     "outputs": []
    }
   ],
   "metadata": {}
  }
 ]
}