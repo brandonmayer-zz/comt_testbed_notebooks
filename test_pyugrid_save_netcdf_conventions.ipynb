{
 "metadata": {
  "name": "",
  "signature": "sha256:e3d8cd46a259eab9fe9f527b9bf809fa6f3f2bfec114be3ec1513be1d673c0d9"
 },
 "nbformat": 3,
 "nbformat_minor": 0,
 "worksheets": [
  {
   "cells": [
    {
     "cell_type": "code",
     "collapsed": false,
     "input": [
      "from netCDF4 import Dataset\n",
      "import matplotlib.pyplot as plt\n",
      "from mpl_toolkits.basemap import pyproj\n",
      "import matplotlib.tri as Tri\n",
      "import pyugrid\n",
      "import numpy as np\n",
      "import os\n",
      "%matplotlib inline\n",
      "\n",
      "url=\"http://comt.sura.org/thredds/dodsC/data/comt_1_archive/inundation_tropical/UND_ADCIRC/Hurricane_Ike_2D_final_run_without_waves\""
     ],
     "language": "python",
     "metadata": {},
     "outputs": [],
     "prompt_number": 1
    },
    {
     "cell_type": "code",
     "collapsed": false,
     "input": [
      "nc = Dataset(url,'r')\n",
      "ug = pyugrid.UGrid.from_nc_dataset(nc)\n",
      "temp = \"./ug_temp.nc\""
     ],
     "language": "python",
     "metadata": {},
     "outputs": [],
     "prompt_number": 2
    },
    {
     "cell_type": "code",
     "collapsed": false,
     "input": [
      "ug.save_as_netcdf(temp)"
     ],
     "language": "python",
     "metadata": {},
     "outputs": [],
     "prompt_number": 3
    },
    {
     "cell_type": "code",
     "collapsed": false,
     "input": [
      "nc2 = Dataset(temp,'r')"
     ],
     "language": "python",
     "metadata": {},
     "outputs": [],
     "prompt_number": 4
    },
    {
     "cell_type": "code",
     "collapsed": false,
     "input": [
      "print nc2.Conventions\n"
     ],
     "language": "python",
     "metadata": {},
     "outputs": [
      {
       "ename": "AttributeError",
       "evalue": "NetCDF: Attribute not found",
       "output_type": "pyerr",
       "traceback": [
        "\u001b[1;31m---------------------------------------------------------------------------\u001b[0m\n\u001b[1;31mAttributeError\u001b[0m                            Traceback (most recent call last)",
        "\u001b[1;32m<ipython-input-6-fbc8f81a3fd4>\u001b[0m in \u001b[0;36m<module>\u001b[1;34m()\u001b[0m\n\u001b[1;32m----> 1\u001b[1;33m \u001b[1;32mprint\u001b[0m \u001b[0mnc2\u001b[0m\u001b[1;33m.\u001b[0m\u001b[0mConventions\u001b[0m\u001b[1;33m\u001b[0m\u001b[0m\n\u001b[0m",
        "\u001b[1;32m/home/bmayer_local/.virtualenvs/wms/local/lib/python2.7/site-packages/netCDF4.so\u001b[0m in \u001b[0;36mnetCDF4.Dataset.__getattr__ (netCDF4.c:24391)\u001b[1;34m()\u001b[0m\n",
        "\u001b[1;32m/home/bmayer_local/.virtualenvs/wms/local/lib/python2.7/site-packages/netCDF4.so\u001b[0m in \u001b[0;36mnetCDF4.Dataset.getncattr (netCDF4.c:23606)\u001b[1;34m()\u001b[0m\n",
        "\u001b[1;32m/home/bmayer_local/.virtualenvs/wms/local/lib/python2.7/site-packages/netCDF4.so\u001b[0m in \u001b[0;36mnetCDF4._get_att (netCDF4.c:14906)\u001b[1;34m()\u001b[0m\n",
        "\u001b[1;31mAttributeError\u001b[0m: NetCDF: Attribute not found"
       ]
      }
     ],
     "prompt_number": 6
    },
    {
     "cell_type": "code",
     "collapsed": false,
     "input": [],
     "language": "python",
     "metadata": {},
     "outputs": []
    }
   ],
   "metadata": {}
  }
 ]
}