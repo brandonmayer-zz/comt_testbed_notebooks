{
 "metadata": {
  "name": "",
  "signature": "sha256:b5fd0693d3d21f8a8964d6e61a0ac1e13963f04bcfec6aba64e6c8c07baaaa1d"
 },
 "nbformat": 3,
 "nbformat_minor": 0,
 "worksheets": [
  {
   "cells": [
    {
     "cell_type": "code",
     "collapsed": false,
     "input": [
      "from netCDF4 import Dataset\n",
      "import matplotlib.pyplot as plt\n",
      "from mpl_toolkits.basemap import pyproj\n",
      "import matplotlib.tri as Tri\n",
      "import pyugrid\n",
      "import numpy as np\n",
      "%matplotlib inline"
     ],
     "language": "python",
     "metadata": {},
     "outputs": [],
     "prompt_number": 1
    },
    {
     "cell_type": "code",
     "collapsed": false,
     "input": [
      "url=\"http://comt.sura.org/thredds/dodsC/data/comt_1_archive/inundation_tropical/UND_ADCIRC/Hurricane_Ike_2D_final_run_without_waves\""
     ],
     "language": "python",
     "metadata": {},
     "outputs": [],
     "prompt_number": 2
    },
    {
     "cell_type": "code",
     "collapsed": false,
     "input": [
      "try:\n",
      "    ug = pyugrid.UGrid.from_ncfile(url)\n",
      "    lon = ug.nodes[:,0]\n",
      "    lat = ug.nodes[:,1]\n",
      "    nv = ug.faces[:]\n",
      "    triang = Tri.Triangulation(lon, lat, triangles=nv)\n",
      "    print \"is ugrid\"\n",
      "except:\n",
      "    print \"is not ugrid\""
     ],
     "language": "python",
     "metadata": {},
     "outputs": [
      {
       "output_type": "stream",
       "stream": "stdout",
       "text": [
        "is ugrid\n"
       ]
      }
     ],
     "prompt_number": 4
    },
    {
     "cell_type": "code",
     "collapsed": false,
     "input": [
      "nc = Dataset(url,'r')\n",
      "z = nc.variables['zeta_max'][:]\n",
      "lvls = np.arange(z.min(),z.max(),0.2)\n",
      "plt.tricontourf(triang,z,levels=lvls)"
     ],
     "language": "python",
     "metadata": {},
     "outputs": [
      {
       "metadata": {},
       "output_type": "pyout",
       "prompt_number": 5,
       "text": [
        "<matplotlib.tri.tricontour.TriContourSet instance at 0x7f4b655a5710>"
       ]
      },
      {
       "metadata": {},
       "output_type": "display_data",
       "png": "[encoded data removed]",
       "text": [
        "<matplotlib.figure.Figure at 0x7f4b664583d0>"
       ]
      }
     ],
     "prompt_number": 5
    },
    {
     "cell_type": "code",
     "collapsed": false,
     "input": [],
     "language": "python",
     "metadata": {},
     "outputs": []
    }
   ],
   "metadata": {}
  }
 ]
}