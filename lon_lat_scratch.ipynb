{
 "metadata": {
  "name": "",
  "signature": "sha256:25085bcd36717814f587f3e96a8cbeadc529ca4a476e9e10d899deffe9da22eb"
 },
 "nbformat": 3,
 "nbformat_minor": 0,
 "worksheets": [
  {
   "cells": [
    {
     "cell_type": "code",
     "collapsed": false,
     "input": [
      "import numpy as np"
     ],
     "language": "python",
     "metadata": {},
     "outputs": [],
     "prompt_number": 1
    },
    {
     "cell_type": "code",
     "collapsed": false,
     "input": [
      "v = np.arange(20)\n",
      "v = np.reshape(v,(5,4))\n",
      "print v"
     ],
     "language": "python",
     "metadata": {},
     "outputs": [
      {
       "output_type": "stream",
       "stream": "stdout",
       "text": [
        "[[ 0  1  2  3]\n",
        " [ 4  5  6  7]\n",
        " [ 8  9 10 11]\n",
        " [12 13 14 15]\n",
        " [16 17 18 19]]\n"
       ]
      }
     ],
     "prompt_number": 5
    },
    {
     "cell_type": "code",
     "collapsed": false,
     "input": [
      "lo = np.array([100,102,105,110])\n",
      "la = np.array([30,35,38,40,41])\n",
      "lon,lat = np.meshgrid(lo,la)\n",
      "lonmin=101\n",
      "lonmax=107\n",
      "latmin=34\n",
      "latmax=42\n",
      "\n",
      "padding=0.18\n",
      "\n",
      "print lat\n",
      "print lon\n",
      "print (lon <= (lonmax + padding)) & (lon >= (lonmin - padding))\n",
      "print (lat <= (latmax + padding)) & (lat >= (latmin - padding))\n",
      "\n",
      "bool_idx = (lat <= (latmax + padding)) & (lat >= (latmin - padding)) &\\\n",
      "        (lon <= (lonmax + padding)) & (lon >= (lonmin - padding))\n",
      "print \"*******************\"\n",
      "print bool_idx\n",
      "print v[bool_idx]\n",
      "print lat[bool_idx]\n",
      "print lon[bool_idx]\n"
     ],
     "language": "python",
     "metadata": {},
     "outputs": [
      {
       "output_type": "stream",
       "stream": "stdout",
       "text": [
        "[[30 30 30 30]\n",
        " [35 35 35 35]\n",
        " [38 38 38 38]\n",
        " [40 40 40 40]\n",
        " [41 41 41 41]]\n",
        "[[100 102 105 110]\n",
        " [100 102 105 110]\n",
        " [100 102 105 110]\n",
        " [100 102 105 110]\n",
        " [100 102 105 110]]\n",
        "[[False  True  True False]\n",
        " [False  True  True False]\n",
        " [False  True  True False]\n",
        " [False  True  True False]\n",
        " [False  True  True False]]\n",
        "[[False False False False]\n",
        " [ True  True  True  True]\n",
        " [ True  True  True  True]\n",
        " [ True  True  True  True]\n",
        " [ True  True  True  True]]\n",
        "*******************\n",
        "[[False False False False]\n",
        " [False  True  True False]\n",
        " [False  True  True False]\n",
        " [False  True  True False]\n",
        " [False  True  True False]]\n",
        "[ 5  6  9 10 13 14 17 18]\n",
        "[35 35 38 38 40 40 41 41]\n",
        "[102 105 102 105 102 105 102 105]\n"
       ]
      }
     ],
     "prompt_number": 49
    },
    {
     "cell_type": "code",
     "collapsed": false,
     "input": [
      "def get_lat_lon_subset_idx(lon,lat,lonmin,latmin,lonmax,latmax,padding=0.18):\n",
      "    \"\"\"\n",
      "    A function to return the indicies of lat, lon within a bounding box.\n",
      "    \"\"\"\n",
      "    return np.asarray(np.where(\n",
      "        (lat <= (latmax + padding)) & (lat >= (latmin - padding)) &\n",
      "        (lon <= (lonmax + padding)) & (lon >= (lonmin - padding)),)).squeeze()"
     ],
     "language": "python",
     "metadata": {},
     "outputs": [],
     "prompt_number": 50
    },
    {
     "cell_type": "code",
     "collapsed": false,
     "input": [
      "def get_lon_lat_subset_bool(lon,lat,lonmin,latmin,lonmax,latmax,padding=0.18):\n",
      "    \"\"\"\n",
      "    A function to return the indicies of lat, lon within a bounding box.\n",
      "    \"\"\"\n",
      "    return (lat <= (latmax + padding)) & (lat >= (latmin - padding)) & \\\n",
      "        (lon <= (lonmax + padding)) & (lon >= (lonmin - padding))"
     ],
     "language": "python",
     "metadata": {},
     "outputs": [],
     "prompt_number": 51
    },
    {
     "cell_type": "code",
     "collapsed": false,
     "input": [
      "sub_idx = get_lat_lon_subset_idx(lon,lat,lonmin,latmin,lonmax,latmax)\n",
      "print sub_idx\n",
      "bool_idx = get_lon_lat_subset_bool(lon,lat,lonmin,latmin,lonmax,latmax)\n",
      "print bool_idx"
     ],
     "language": "python",
     "metadata": {},
     "outputs": [
      {
       "output_type": "stream",
       "stream": "stdout",
       "text": [
        "[[1 1 2 2 3 3 4 4]\n",
        " [1 2 1 2 1 2 1 2]]\n",
        "[[False False False False]\n",
        " [False  True  True False]\n",
        " [False  True  True False]\n",
        " [False  True  True False]\n",
        " [False  True  True False]]\n"
       ]
      }
     ],
     "prompt_number": 52
    },
    {
     "cell_type": "code",
     "collapsed": false,
     "input": [
      "print v[bool_idx]\n",
      "i = np.unique(sub_idx[0])\n",
      "print i\n",
      "j = np.unique(sub_idx[1])\n",
      "print j\n",
      "print v[sub_idx[0],sub_idx[1]].reshape(len(i),len(j))\n",
      "print lon[bool_idx]\n",
      "print lat[bool_idx]"
     ],
     "language": "python",
     "metadata": {},
     "outputs": [
      {
       "output_type": "stream",
       "stream": "stdout",
       "text": [
        "[ 5  6  9 10 13 14 17 18]\n",
        "[1 2 3 4]\n",
        "[1 2]\n",
        "[[ 5  6]\n",
        " [ 9 10]\n",
        " [13 14]\n",
        " [17 18]]\n",
        "[102 105 102 105 102 105 102 105]\n",
        "[35 35 38 38 40 40 41 41]\n"
       ]
      }
     ],
     "prompt_number": 54
    },
    {
     "cell_type": "code",
     "collapsed": false,
     "input": [
      "v[sub_idx]"
     ],
     "language": "python",
     "metadata": {},
     "outputs": [
      {
       "metadata": {},
       "output_type": "pyout",
       "prompt_number": 39,
       "text": [
        "array([[[ 4,  5,  6,  7],\n",
        "        [ 4,  5,  6,  7],\n",
        "        [ 8,  9, 10, 11],\n",
        "        [ 8,  9, 10, 11]],\n",
        "\n",
        "       [[ 4,  5,  6,  7],\n",
        "        [ 8,  9, 10, 11],\n",
        "        [ 4,  5,  6,  7],\n",
        "        [ 8,  9, 10, 11]]])"
       ]
      }
     ],
     "prompt_number": 39
    },
    {
     "cell_type": "code",
     "collapsed": false,
     "input": [
      "v"
     ],
     "language": "python",
     "metadata": {},
     "outputs": [
      {
       "metadata": {},
       "output_type": "pyout",
       "prompt_number": 40,
       "text": [
        "array([[ 0,  1,  2,  3],\n",
        "       [ 4,  5,  6,  7],\n",
        "       [ 8,  9, 10, 11],\n",
        "       [12, 13, 14, 15],\n",
        "       [16, 17, 18, 19]])"
       ]
      }
     ],
     "prompt_number": 40
    },
    {
     "cell_type": "code",
     "collapsed": false,
     "input": [],
     "language": "python",
     "metadata": {},
     "outputs": []
    }
   ],
   "metadata": {}
  }
 ]
}