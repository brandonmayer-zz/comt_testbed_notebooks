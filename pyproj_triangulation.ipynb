{
 "metadata": {
  "name": "",
  "signature": "sha256:e940b0dfb57f0137ccf0ee5b3fd72c374d282aeee59e29abe8e8c3b48253af6e"
 },
 "nbformat": 3,
 "nbformat_minor": 0,
 "worksheets": [
  {
   "cells": [
    {
     "cell_type": "code",
     "collapsed": false,
     "input": [
      "import matplotlib.pyplot as plt\n",
      "import matplotlib.tri as Tri\n",
      "import cartopy.crs as ccrs\n",
      "%matplotlib inline\n",
      "import pyproj\n",
      "\n",
      "import numpy as np\n",
      "\n",
      "import pyugrid\n",
      "from netCDF4 import Dataset"
     ],
     "language": "python",
     "metadata": {},
     "outputs": [],
     "prompt_number": 8
    },
    {
     "cell_type": "code",
     "collapsed": false,
     "input": [
      "lonmin = -116.166686996\n",
      "latmin = 9.93907265811\n",
      "lonmax = -65.5856323151\n",
      "latmax = 39.5485138771"
     ],
     "language": "python",
     "metadata": {},
     "outputs": [],
     "prompt_number": 9
    },
    {
     "cell_type": "code",
     "collapsed": false,
     "input": [
      "mi = pyproj.Proj(\"+proj=merc +lon_0=0 +k=1 +x_0=0 +y_0=0 +a=6378137 +b=6378137 +units=m +no_defs \")"
     ],
     "language": "python",
     "metadata": {},
     "outputs": [],
     "prompt_number": 10
    },
    {
     "cell_type": "code",
     "collapsed": false,
     "input": [
      "url=\"http://comt.sura.org/thredds/dodsC/data/comt_1_archive/inundation_tropical/UND_ADCIRC/Hurricane_Ike_2D_final_run_with_waves\""
     ],
     "language": "python",
     "metadata": {},
     "outputs": [],
     "prompt_number": 3
    },
    {
     "cell_type": "code",
     "collapsed": false,
     "input": [
      "ug = pyugrid.UGrid.from_ncfile(url)\n",
      "lon = ug.nodes[:,0]\n",
      "lat = ug.nodes[:,1]\n",
      "nv  = ug.faces[:]"
     ],
     "language": "python",
     "metadata": {},
     "outputs": [],
     "prompt_number": 4
    },
    {
     "cell_type": "code",
     "collapsed": false,
     "input": [
      "nc = Dataset(url,'r')\n",
      "data = nc.variables['zeta'][-1][:]\n",
      "print data.shape"
     ],
     "language": "python",
     "metadata": {},
     "outputs": [
      {
       "output_type": "stream",
       "stream": "stdout",
       "text": [
        "(417642,)\n"
       ]
      }
     ],
     "prompt_number": 5
    },
    {
     "cell_type": "code",
     "collapsed": false,
     "input": [
      "def get_lat_lon_subset_idx(lon,lat,lonmin,latmin,lonmax,latmax,padding=0.18):\n",
      "    \"\"\"\n",
      "    A function to return the indicies of lat, lon within a bounding box.\n",
      "    Padding is leftover from old sciwms code, I believe it was to include triangles\n",
      "    lying just outside the region of interest so that there are no holes in the\n",
      "    rendered image.\n",
      "    \"\"\"\n",
      "    return np.asarray(np.where(\n",
      "        (lat <= (latmax + padding)) & (lat >= (latmin - padding)) &\n",
      "        (lon <= (lonmax + padding)) & (lon >= (lonmin - padding)),)).squeeze()"
     ],
     "language": "python",
     "metadata": {},
     "outputs": [],
     "prompt_number": 11
    },
    {
     "cell_type": "code",
     "collapsed": false,
     "input": [
      "def get_nv_subset_idx(nv, sub_idx):\n",
      "    \"\"\"\n",
      "    Return row indicies into the nv data structure which have indicies\n",
      "    inside the bounding box defined by get_lat_lon_subset_idx\n",
      "    \"\"\"\n",
      "    return np.asarray(np.where(np.all(np.in1d(nv,sub_idx).reshape(nv.shape),1))).squeeze()"
     ],
     "language": "python",
     "metadata": {},
     "outputs": [],
     "prompt_number": 12
    },
    {
     "cell_type": "code",
     "collapsed": false,
     "input": [
      "sub_idx = get_lat_lon_subset_idx(lon,lat,lonmin,latmin,lonmax,latmax)\n",
      "nv_subset_idx = get_nv_subset_idx(nv, sub_idx)\n",
      "triang_subset = Tri.Triangulation(lon,lat,triangles=nv[nv_subset_idx])"
     ],
     "language": "python",
     "metadata": {},
     "outputs": [],
     "prompt_number": 13
    },
    {
     "cell_type": "code",
     "collapsed": false,
     "input": [
      "print ug.nodes.shape\n",
      "print ug.nodes.dtype"
     ],
     "language": "python",
     "metadata": {},
     "outputs": [
      {
       "output_type": "stream",
       "stream": "stdout",
       "text": [
        "(417642, 2)\n",
        "float64\n"
       ]
      }
     ],
     "prompt_number": 19
    },
    {
     "cell_type": "code",
     "collapsed": false,
     "input": [
      "mercx, mercy = mi(ug.nodes[:,0], ug.nodes[:,1])"
     ],
     "language": "python",
     "metadata": {},
     "outputs": [],
     "prompt_number": 21
    },
    {
     "cell_type": "code",
     "collapsed": false,
     "input": [
      "print mercx[:10]\n",
      "print mercy[:10]"
     ],
     "language": "python",
     "metadata": {},
     "outputs": [
      {
       "output_type": "stream",
       "stream": "stdout",
       "text": [
        "[-10840043.32570655 -10842253.24023778 -10844319.77526486 -10846331.3184635\n",
        " -10848289.09434808 -10850194.77271097 -10852049.46674708\n",
        " -10853854.84624876 -10855610.46593806 -10857236.84369855]\n",
        "[ 3124430.7966048   3127461.54734381  3127767.73279598  3128065.80137812\n",
        "  3128355.75257334  3128638.08580982  3128912.92561316  3129180.39653084\n",
        "  3129451.2472788   3130049.58724464]\n"
       ]
      }
     ],
     "prompt_number": 25
    },
    {
     "cell_type": "code",
     "collapsed": false,
     "input": [
      "merc_tri = Tri.Triangulation(mercx,mercy,triangles=triang_subset.triangles)"
     ],
     "language": "python",
     "metadata": {},
     "outputs": [],
     "prompt_number": 28
    },
    {
     "cell_type": "code",
     "collapsed": false,
     "input": [
      "nlvls = 15\n",
      "lvls = np.linspace(data.min(), data.max(), nlvls)"
     ],
     "language": "python",
     "metadata": {},
     "outputs": [],
     "prompt_number": 30
    },
    {
     "cell_type": "code",
     "collapsed": false,
     "input": [
      "plt.tricontourf(merc_tri, data, levels=lvls)"
     ],
     "language": "python",
     "metadata": {},
     "outputs": [
      {
       "metadata": {},
       "output_type": "pyout",
       "prompt_number": 31,
       "text": [
        "<matplotlib.tri.tricontour.TriContourSet instance at 0x7fac57d30e18>"
       ]
      },
      {
       "metadata": {},
       "output_type": "display_data",
       "png": "[encoded data removed]",
       "text": [
        "<matplotlib.figure.Figure at 0x7fac5c06c690>"
       ]
      }
     ],
     "prompt_number": 31
    },
    {
     "cell_type": "code",
     "collapsed": false,
     "input": [
      "triang_subset.x, triang_subset.y = mi(ug.nodes[:,0], ug.nodes[:,1])"
     ],
     "language": "python",
     "metadata": {},
     "outputs": [],
     "prompt_number": 32
    },
    {
     "cell_type": "code",
     "collapsed": false,
     "input": [
      "print triang_subset.x[:10]"
     ],
     "language": "python",
     "metadata": {},
     "outputs": [
      {
       "output_type": "stream",
       "stream": "stdout",
       "text": [
        "[-10840043.32570655 -10842253.24023778 -10844319.77526486 -10846331.3184635\n",
        " -10848289.09434808 -10850194.77271097 -10852049.46674708\n",
        " -10853854.84624876 -10855610.46593806 -10857236.84369855]\n"
       ]
      }
     ],
     "prompt_number": 33
    },
    {
     "cell_type": "code",
     "collapsed": false,
     "input": [
      "plt.tricontourf(triang_subset, data, levels=lvls)"
     ],
     "language": "python",
     "metadata": {},
     "outputs": [
      {
       "metadata": {},
       "output_type": "pyout",
       "prompt_number": 34,
       "text": [
        "<matplotlib.tri.tricontour.TriContourSet instance at 0x7fac57ba14d0>"
       ]
      },
      {
       "metadata": {},
       "output_type": "display_data",
       "png": "[encoded data removed]",
       "text": [
        "<matplotlib.figure.Figure at 0x7fac57c245d0>"
       ]
      }
     ],
     "prompt_number": 34
    },
    {
     "cell_type": "code",
     "collapsed": false,
     "input": [],
     "language": "python",
     "metadata": {},
     "outputs": []
    }
   ],
   "metadata": {}
  }
 ]
}