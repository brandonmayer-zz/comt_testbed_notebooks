{
 "metadata": {
  "name": "",
  "signature": "sha256:bbb7f3e1a57368f0ec44b93ba88241ed4f09a1279fc8bcafc54ba23e4447366c"
 },
 "nbformat": 3,
 "nbformat_minor": 0,
 "worksheets": [
  {
   "cells": [
    {
     "cell_type": "markdown",
     "metadata": {},
     "source": [
      "A notebook to determine the best way to automatically extract the JSON response Charlton wants for the sciwms comt testbed.\n",
      "\n",
      "Even though there are compliance guarantees a lot of variables have non-standard names. For example, Charlton wants the spatial extend of each dataset. Some grid coordinate variables are called 'lat'/'lon' or 'x'/'y' or 'lat_u'/'lon_u' or 'lat_rho'/'lon_rho' etc.\n",
      "\n",
      "For the spatial bounds check, I first check if the endpoint has variables named 'lat' and 'lon' or 'x' and 'y'. This got me the spatial coordinates for 101 of 111 datasets. For the rest, I loop over the attributes of each variable checking for the 'standard_name' field and if it is equal to 'latitude' or 'longitude'. I then built a map from each datasets to the name that the dataset gives to the spatial coordinates.\n",
      "\n",
      "Using this map, I can get the correct coordinate arrays and computing the minimal bounding box."
     ]
    },
    {
     "cell_type": "code",
     "collapsed": false,
     "input": [
      "from owslib import fes, csw\n",
      "from netCDF4 import Dataset, num2date, date2num\n",
      "\n",
      "import numpy as np\n",
      "\n",
      "import json\n",
      "import re"
     ],
     "language": "python",
     "metadata": {},
     "outputs": [],
     "prompt_number": 1
    },
    {
     "cell_type": "code",
     "collapsed": false,
     "input": [
      "endpoint = \"http://www.ngdc.noaa.gov/geoportal/csw\"\n",
      "uuid = '8BF00750-66C7-49FF-8894-4D4F96FD86C0'\n",
      "uuid_filter = fes.PropertyIsEqualTo(propertyname='sys.siteuuid', literal=\"{{{0}}}\".format(uuid))\n",
      "timeout = 120\n",
      "csw_catalogue = csw.CatalogueServiceWeb(endpoint, timeout=timeout)\n",
      "csw_catalogue.getrecords2([uuid_filter], esn='full', maxrecords=999999)"
     ],
     "language": "python",
     "metadata": {},
     "outputs": [],
     "prompt_number": 2
    },
    {
     "cell_type": "code",
     "collapsed": false,
     "input": [
      "missing = []\n",
      "urls = {}\n",
      "for name, record in csw_catalogue.records.iteritems():\n",
      "    legal_name = re.sub('[ .!,;\\-/\\\\\\\\]','_', name)\n",
      "    \n",
      "    for ref in record.references:\n",
      "        if 'odp' in ref.get('scheme').split(\":\"):\n",
      "            urls[legal_name] = ref['url']\n",
      "            d = Dataset(ref['url'],'r')    \n",
      "            lat_obj = d.variables.get('lat')\n",
      "            lon_obj = d.variables.get('lon')\n",
      "            if lat_obj and lon_obj:\n",
      "                pass\n",
      "            else:\n",
      "#                 print '{0} is missing lat/lon'.format(legal_name)\n",
      "                missing.append(legal_name)\n",
      "            break\n",
      "        \n",
      "print \"{0} of {1} are missing lat/lon\".format(len(missing), len(csw_catalogue.records))"
     ],
     "language": "python",
     "metadata": {},
     "outputs": [
      {
       "output_type": "stream",
       "stream": "stdout",
       "text": [
        "61 of 111 are missing lat/lon\n"
       ]
      }
     ],
     "prompt_number": 4
    },
    {
     "cell_type": "code",
     "collapsed": false,
     "input": [
      "hasxy = []\n",
      "missingxy = []\n",
      "for name in missing:\n",
      "    url = urls[name]\n",
      "    #print '{0} {1}'.format(name, url)\n",
      "    d = Dataset(url,'r')\n",
      "    xobj = d.variables.get('x')\n",
      "    yobj = d.variables.get('y')\n",
      "    if xobj and yobj:\n",
      "        hasxy.append(name)\n",
      "    else:\n",
      "        missingxy.append(name)\n",
      "    \n",
      "print \"{0} of {1} has x,y as coord name\".format(len(hasxy), len(missing))"
     ],
     "language": "python",
     "metadata": {},
     "outputs": [
      {
       "output_type": "stream",
       "stream": "stdout",
       "text": [
        "51 of 61 has x,y as coord name\n"
       ]
      }
     ],
     "prompt_number": 5
    },
    {
     "cell_type": "code",
     "collapsed": false,
     "input": [
      "print missingxy"
     ],
     "language": "python",
     "metadata": {},
     "outputs": [
      {
       "output_type": "stream",
       "stream": "stdout",
       "text": [
        "['shelf_hypoxia_TAMU_ROMS_2004_2009_ngom_obc_24h', 'shelf_hypoxia_TAMU_ROMS_2004_2009_iasnfs_obc_24h', 'shelf_hypoxia_TAMU_ROMS_2004_2009_hycom_obc_24h', 'shelf_hypoxia_DAL_ROMS_2004_2009_ias_obc_with_oxygen_inst_rem_30layers', 'shelf_hypoxia_DAL_ROMS_2004_2009_ias_obc_with_oxygen_hnd_soc_30layers', 'shelf_hypoxia_DAL_ROMS_2004_2009_hycom_obc_with_oxygen_inst_rem_30layers', 'shelf_hypoxia_DAL_ROMS_2004_2009_hycom_obc_with_oxygen_hnd_soc_30layers', 'shelf_hypoxia_DAL_ROMS_2004_2009_climatology_obc_with_oxygen_inst_rem_20layers', 'shelf_hypoxia_DAL_ROMS__2004_2009_climatology_obc_with_oxygen_hnd_soc_20layers', 'estuarine_hypoxia_VIMS_CBOFS_2004_2005']\n"
       ]
      }
     ],
     "prompt_number": 6
    },
    {
     "cell_type": "code",
     "collapsed": false,
     "input": [
      "grid_coord_names = {}\n",
      "for name, url in urls.iteritems():\n",
      "    d = Dataset(url,'r')\n",
      "    \n",
      "    grid_coord_names[name] = {}\n",
      "    if ('lat' in d.variables.keys()) and ('lon' in d.variables.keys()):\n",
      "        grid_coord_names[name]['lat'] = 'lat'\n",
      "        grid_coord_names[name]['lon'] = 'lon'\n",
      "        continue\n",
      "        \n",
      "    if ('x' in d.variables.keys()) and ('y' in d.variables.keys()):\n",
      "        grid_coord_names[name]['lat'] = 'x'\n",
      "        grid_coord_names[name]['lon'] = 'y'\n",
      "        continue\n",
      "                       \n",
      "    for k, v in d.variables.iteritems():\n",
      "        if hasattr(v, 'standard_name'):\n",
      "            if v.standard_name == 'latitude':\n",
      "                grid_coord_names[name]['lat'] = 'latitude'\n",
      "                \n",
      "                \n",
      "            if v.standard_name == 'longitude':\n",
      "                grid_coord_names[name]['lon'] = 'longitude'\n",
      "                \n",
      "        if len(grid_coord_names[name]) == 2:\n",
      "            break\n",
      "            "
     ],
     "language": "python",
     "metadata": {},
     "outputs": [],
     "prompt_number": 10
    },
    {
     "cell_type": "code",
     "collapsed": false,
     "input": [
      "print grid_coord_names"
     ],
     "language": "python",
     "metadata": {},
     "outputs": [
      {
       "output_type": "stream",
       "stream": "stdout",
       "text": [
        "{'inundation_tropical_MDL_SLOSH_Hurricane_Rita_final_run_egm3': {'lat': 'lat', 'lon': 'lon'}, 'inundation_tropical_UND_ADCIRC_Hurricane_Ike_3D_final_run_without_waves': {'lat': 'x', 'lon': 'y'}, 'inundation_tropical_USF_FVCOM_Tides_only_2D_final_run': {'lat': 'lat', 'lon': 'lon'}, 'inundation_tropical_UND_SLOSH_Hurricane_Ike_final_run_egm3': {'lat': 'lat', 'lon': 'lon'}, 'shelf_hypoxia_NOAA_NGOM_2005_2011_NGOM': {'lat': 'lat', 'lon': 'lon'}, 'shelf_hypoxia_TAMU_ROMS_2004_2009_hycom_obc_24h': {'lat': 'latitude', 'lon': 'longitude'}, 'inundation_tropical_VIMS_SELFE_Hurricane_Ike_2D_final_run_wave_only': {'lat': 'x', 'lon': 'y'}, 'inundation_tropical_UND_ADCIRC_Hurricane_Ike_2D_preliminary_run_4_spinup_with_levees_and_river_flow': {'lat': 'x', 'lon': 'y'}, 'shelf_hypoxia_DAL_ROMS_2004_2009_hycom_obc_with_oxygen_hnd_soc_30layers': {}, 'inundation_tropical_UND_ADCIRC_Hurricane_Rita_2D_final_run_without_waves': {'lat': 'x', 'lon': 'y'}, 'shelf_hypoxia_DAL_ROMS_2004_2009_ias_obc_with_oxygen_inst_rem_30layers': {}, 'inundation_tropical_UND_ADCIRC_Hurricane_Rita_2D_preliminary_run_1_spinup': {'lat': 'x', 'lon': 'y'}, 'inundation_tropical_USF_FVCOM_Hurricane_Ike_3D_final_run_with_waves': {'lat': 'lat', 'lon': 'lon'}, 'inundation_tropical_UND_ADCIRC_Hurricane_Ike_2D_final_run_without_waves': {'lat': 'x', 'lon': 'y'}, 'inundation_tropical_UND_SLOSH_Hurricane_Ike_preliminary_run_5_egm3_with_SLOSH_winds': {'lat': 'lat', 'lon': 'lon'}, 'inundation_tropical_VIMS_SELFE_Hurricane_Ike_3D_final_run_with_waves': {'lat': 'x', 'lon': 'y'}, 'inundation_tropical_UND_ADCIRC_Hurricane_Ike_3D_final_run_with_waves': {'lat': 'x', 'lon': 'y'}, 'inundation_extratropical_UND_ADCIRC_2005_2D_final_run_with_waves': {'lat': 'x', 'lon': 'y'}, 'inundation_tropical_UND_SLOSH_Hurricane_Rita_preliminary_run_5_egm3_with_SLOSH_winds': {'lat': 'lat', 'lon': 'lon'}, 'inundation_tropical_UND_SLOSH_Hurricane_Rita_preliminary_run_6_egm3_with_SLOSH_winds_without_tides': {'lat': 'lat', 'lon': 'lon'}, 'inundation_extratropical_UND_ADCIRC_2005_2D_final_run_wave_model_only_without_circulation': {'lat': 'x', 'lon': 'y'}, 'inundation_tropical_UND_ADCIRC_Hurricane_Rita_3D_final_run_without_waves': {'lat': 'x', 'lon': 'y'}, 'inundation_extratropical_VIMS_SELFE_2005_2D_final_run_waves_only': {'lat': 'lat', 'lon': 'lon'}, 'inundation_tropical_UND_ADCIRC_Hurricane_Ike_2D_preliminary_run_5_tides_only': {'lat': 'x', 'lon': 'y'}, 'inundation_tropical_MDL_SLOSH_Hurricane_Ike_final_run_egm3': {'lat': 'lat', 'lon': 'lon'}, 'inundation_extratropical_VIMS_SELFE_2005_2D_preliminary_run_without_waves': {'lat': 'x', 'lon': 'y'}, 'inundation_extratropical_VIMS_SELFE_2007_2D_preliminary_run_without_waves': {'lat': 'x', 'lon': 'y'}, 'inundation_tropical_UND_SLOSH_Hurricane_Rita_final_run_egm3': {'lat': 'lat', 'lon': 'lon'}, 'estuarine_hypoxia_VIMS_CBOFS_2004_2005': {}, 'inundation_tropical_UND_SLOSH_Hurricane_Rita_final_run_ebp3': {'lat': 'lat', 'lon': 'lon'}, 'inundation_tropical_UND_ADCIRC_Hurricane_Rita_3D_preliminary_run_1_spinup': {'lat': 'x', 'lon': 'y'}, 'inundation_tropical_USF_FVCOM_Tides_only_2D_preliminary_run_1_fixed_manning': {'lat': 'lat', 'lon': 'lon'}, 'inundation_tropical_USF_FVCOM_Hurricane_Ike_3D_final_run_without_waves': {'lat': 'lat', 'lon': 'lon'}, 'inundation_tropical_UND_SLOSH_Hurricane_Ike_preliminary_run_3_egl3_with_SLOSH_winds_without_tides': {'lat': 'lat', 'lon': 'lon'}, 'shelf_hypoxia_DAL_ROMS_2004_2009_hycom_obc_with_oxygen_inst_rem_30layers': {}, 'inundation_tropical_UND_ADCIRC_Hurricane_Rita_2D_preliminary_run_4_with_waves_without_advection_implicit_1s': {'lat': 'x', 'lon': 'y'}, 'inundation_tropical_UND_ADCIRC_Hurricane_Rita_2D_final_run_with_waves': {'lat': 'x', 'lon': 'y'}, 'inundation_tropical_UND_ADCIRC_Hurricane_Ike_3D_preliminary_run_1_spinup': {'lat': 'x', 'lon': 'y'}, 'inundation_extratropical_UMASS_FVCOM_2005_3D_final_run_waves_only': {'lat': 'lat', 'lon': 'lon'}, 'inundation_tropical_USF_FVCOM_SWAN_Ike_final_run_with_2DSurge': {'lat': 'lat', 'lon': 'lon'}, 'inundation_extratropical_UMASS_FVCOM_2007_3D_final_run_with_waves': {'lat': 'lat', 'lon': 'lon'}, 'inundation_tropical_USF_FVCOM_SWAN_Rita_final_run_with_2DSurge': {'lat': 'lat', 'lon': 'lon'}, 'inundation_extratropical_VIMS_SELFE_2007_2D_preliminary_run_with_waves': {'lat': 'x', 'lon': 'y'}, 'estuarine_hypoxia_VIMS_EFDC_2004_DO3d': {'lat': 'lat', 'lon': 'lon'}, 'inundation_tropical_UND_ADCIRC_Hurricane_Ike_2D_final_run_with_waves': {'lat': 'x', 'lon': 'y'}, 'inundation_tropical_UND_ADCIRC_Hurricane_Rita_2D_preliminary_run_3_tides_only': {'lat': 'x', 'lon': 'y'}, 'inundation_tropical_UND_ADCIRC_Hurricane_Ike_Timing_with_waves': {'lat': 'x', 'lon': 'y'}, 'inundation_extratropical_VIMS_SELFE_2007_2D_preliminary_run_waves_only': {'lat': 'x', 'lon': 'y'}, 'inundation_tropical_UND_SLOSH_Hurricane_Rita_preliminary_run_1_ebp3_without_tides': {'lat': 'lat', 'lon': 'lon'}, 'inundation_tropical_UND_SLOSH_Hurricane_Rita_preliminary_run_4_egm3_without_tides': {'lat': 'lat', 'lon': 'lon'}, 'inundation_tropical_VIMS_SELFE_Hurricane_Rita_3D_final_run_with_waves': {'lat': 'x', 'lon': 'y'}, 'inundation_tropical_UND_ADCIRC_Hurricane_Ike_2D_preliminary_run_7_with_waves_without_advection_implicit_1s': {'lat': 'x', 'lon': 'y'}, 'inundation_extratropical_UND_ADCIRC_2007_2D_final_run_wave_model_only_without_circulation': {'lat': 'x', 'lon': 'y'}, 'inundation_tropical_UND_ADCIRC_Hurricane_Rita_2D_preliminary_run_2_spinup_without_advection_implicit_1s': {'lat': 'x', 'lon': 'y'}, 'inundation_tropical_UND_SLOSH_Hurricane_Ike_preliminary_run_4_egm3_without_tides': {'lat': 'lat', 'lon': 'lon'}, 'inundation_tropical_USF_FVCOM_Hurricane_Rita_3D_final_run_with_waves': {'lat': 'lat', 'lon': 'lon'}, 'inundation_extratropical_VIMS_SELFE_2007_2D_final_run_waves_only': {'lat': 'lat', 'lon': 'lon'}, 'inundation_tropical_UND_SLOSH_Hurricane_Rita_preliminary_run_3_ebp3_with_SLOSH_winds_without_tides': {'lat': 'lat', 'lon': 'lon'}, 'inundation_tropical_UND_SLOSH_Hurricane_Rita_preliminary_run_2_ebp3_with_SLOSH_winds': {'lat': 'lat', 'lon': 'lon'}, 'inundation_tropical_USF_FVCOM_SWAN_Rita_final_run_without_Surge': {'lat': 'lat', 'lon': 'lon'}, 'inundation_extratropical_UND_ADCIRC_2010_2D_final_run_tides_only': {'lat': 'x', 'lon': 'y'}, 'inundation_tropical_VIMS_SELFE_Hurricane_Rita_2D_final_run_without_waves': {'lat': 'lat', 'lon': 'lon'}, 'inundation_tropical_VIMS_SELFE_Hurricane_Rita_3D_final_run_without_waves': {'lat': 'x', 'lon': 'y'}, 'inundation_extratropical_VIMS_SELFE_2005_2D_preliminary_run_waves_only': {'lat': 'x', 'lon': 'y'}, 'inundation_extratropical_VIMS_SELFE_2010_2D_final_run_tide_only': {'lat': 'x', 'lon': 'y'}, 'inundation_tropical_UND_ADCIRC_Hurricane_Ike_2D_preliminary_run_1_spinup': {'lat': 'x', 'lon': 'y'}, 'inundation_extratropical_VIMS_SELFE_2005_2D_final_run_with_waves': {'lat': 'lat', 'lon': 'lon'}, 'inundation_tropical_UND_SLOSH_Hurricane_Ike_preliminary_run_1_egl3_without_tides': {'lat': 'lat', 'lon': 'lon'}, 'inundation_tropical_UND_ADCIRC_Hurricane_Rita_3D_final_run_with_waves': {'lat': 'x', 'lon': 'y'}, 'inundation_extratropical_UMASS_FVCOM_2007_3D_final_run_waves_only': {'lat': 'lat', 'lon': 'lon'}, 'inundation_tropical_UND_ADCIRC_Tides_only_3D_final_run': {'lat': 'x', 'lon': 'y'}, 'shelf_hypoxia_DAL_ROMS__2004_2009_climatology_obc_with_oxygen_hnd_soc_20layers': {}, 'inundation_tropical_UND_ADCIRC_Hurricane_Ike_2D_preliminary_run_8_with_waves_and_levees': {'lat': 'x', 'lon': 'y'}, 'inundation_tropical_UND_ADCIRC_Hurricane_Ike_Timing_without_waves': {'lat': 'x', 'lon': 'y'}, 'shelf_hypoxia_TAMU_ROMS_2004_2009_iasnfs_obc_24h': {'lat': 'latitude', 'lon': 'longitude'}, 'inundation_tropical_UND_ADCIRC_Hurricane_Ike_2D_preliminary_run_2_spinup_without_advection_implicit_1s': {'lat': 'x', 'lon': 'y'}, 'inundation_tropical_UND_SLOSH_Hurricane_Ike_preliminary_run_6_egm3_with_SLOSH_winds_without_tides': {'lat': 'lat', 'lon': 'lon'}, 'inundation_tropical_UND_ADCIRC_Hurricane_Ike_2D_preliminary_run_6_without_waves_and_advection_implicit_1s': {'lat': 'x', 'lon': 'y'}, 'inundation_tropical_USF_FVCOM_Hurricane_Rita_3D_final_run_without_waves': {'lat': 'lat', 'lon': 'lon'}, 'inundation_tropical_USF_FVCOM_Hurricane_Rita_2D_final_run_with_waves': {'lat': 'lat', 'lon': 'lon'}, 'inundation_extratropical_UND_ADCIRC_2007_2D_final_run_without_waves': {'lat': 'x', 'lon': 'y'}, 'shelf_hypoxia_TAMU_ROMS_2004_2009_ngom_obc_24h': {'lat': 'latitude', 'lon': 'longitude'}, 'inundation_extratropical_UMASS_FVCOM_2007_3D_final_run_without_waves': {'lat': 'lat', 'lon': 'lon'}, 'inundation_extratropical_UMASS_FVCOM_2005_3D_final_run_with_waves': {'lat': 'lat', 'lon': 'lon'}, 'inundation_tropical_USF_FVCOM_Hurricane_Ike_2D_final_run_with_waves': {'lat': 'lat', 'lon': 'lon'}, 'inundation_extratropical_UND_ADCIRC_2007_2D_final_run_with_waves': {'lat': 'x', 'lon': 'y'}, 'inundation_extratropical_VIMS_SELFE_2005_2D_final_run_without_waves': {'lat': 'lat', 'lon': 'lon'}, 'inundation_tropical_USF_FVCOM_SWAN_Ike_final_run_without_Surge': {'lat': 'lat', 'lon': 'lon'}, 'inundation_tropical_UND_ADCIRC_Tides_only_2D_final_run': {'lat': 'x', 'lon': 'y'}, 'inundation_extratropical_UND_ADCIRC_2005_2D_final_run_without_waves': {'lat': 'x', 'lon': 'y'}, 'inundation_tropical_USF_FVCOM_Hurricane_Rita_2D_final_run_without_waves': {'lat': 'lat', 'lon': 'lon'}, 'inundation_tropical_VIMS_SELFE_Hurricane_Ike_3D_final_run_without_waves': {'lat': 'x', 'lon': 'y'}, 'estofs_atlantic': {'lat': 'x', 'lon': 'y'}, 'inundation_tropical_VIMS_SELFE_Hurricane_Ike_2D_final_run_with_waves': {'lat': 'lat', 'lon': 'lon'}, 'inundation_tropical_UND_ADCIRC_Tides_only_2D_preliminary_run_1_without_advection_implicit_1s': {'lat': 'x', 'lon': 'y'}, 'inundation_tropical_USF_FVCOM_Hurricane_Ike_2D_final_run_without_waves': {'lat': 'lat', 'lon': 'lon'}, 'inundation_tropical_VIMS_SELFE_Hurricane_Rita_2D_final_run_with_waves': {'lat': 'lat', 'lon': 'lon'}, 'inundation_extratropical_VIMS_SELFE_2007_2D_final_run_without_waves': {'lat': 'lat', 'lon': 'lon'}, 'inundation_tropical_UND_SLOSH_Hurricane_Ike_final_run_egl3': {'lat': 'lat', 'lon': 'lon'}, 'inundation_tropical_UND_ADCIRC_Hurricane_Ike_2D_preliminary_run_9_with_waves_and_levees_and_river_flow': {'lat': 'x', 'lon': 'y'}, 'inundation_tropical_UND_ADCIRC_Hurricane_Ike_2D_preliminary_run_3_spinup_with_levees': {'lat': 'x', 'lon': 'y'}, 'inundation_tropical_VIMS_SELFE_Hurricane_Rita_2D_final_run_waves_only': {'lat': 'x', 'lon': 'y'}, 'inundation_tropical_USF_FVCOM_Tides_only_2D_preliminary_run_2_varied_manning_minimum_manning_0_025': {'lat': 'lat', 'lon': 'lon'}, 'shelf_hypoxia_DAL_ROMS_2004_2009_ias_obc_with_oxygen_hnd_soc_30layers': {}, 'inundation_tropical_VIMS_SELFE_Hurricane_Ike_2D_final_run_without_waves': {'lat': 'lat', 'lon': 'lon'}, 'inundation_tropical_UND_SLOSH_Hurricane_Ike_preliminary_run_2_egl3_with_SLOSH_winds': {'lat': 'lat', 'lon': 'lon'}, 'inundation_extratropical_VIMS_SELFE_2010_2D_preliminary_run_without_waves': {'lat': 'x', 'lon': 'y'}, 'shelf_hypoxia_DAL_ROMS_2004_2009_climatology_obc_with_oxygen_inst_rem_20layers': {}, 'inundation_tropical_UND_ADCIRC_Hurricane_Rita_2D_preliminary_run_5_without_waves_and_advection_implicit_1s': {'lat': 'x', 'lon': 'y'}, 'inundation_extratropical_VIMS_SELFE_2007_2D_final_run_with_waves': {'lat': 'lat', 'lon': 'lon'}, 'inundation_extratropical_VIMS_SELFE_2005_2D_preliminary_run_with_waves': {'lat': 'x', 'lon': 'y'}}\n"
       ]
      }
     ],
     "prompt_number": 11
    },
    {
     "cell_type": "code",
     "collapsed": false,
     "input": [],
     "language": "python",
     "metadata": {},
     "outputs": []
    }
   ],
   "metadata": {}
  }
 ]
}