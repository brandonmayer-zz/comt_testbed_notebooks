{
 "metadata": {
  "name": "",
  "signature": "sha256:ec7a03778418690f8ca69e29ae87772704f639e81fa4eb7c4d8ebf646cfacfc6"
 },
 "nbformat": 3,
 "nbformat_minor": 0,
 "worksheets": [
  {
   "cells": [
    {
     "cell_type": "code",
     "collapsed": false,
     "input": [
      "from netCDF4 import Dataset\n",
      "from sciwms.util.cf import get_global_attribute\n",
      "from sciwms.apps.index_ngdc import get_layers"
     ],
     "language": "python",
     "metadata": {},
     "outputs": [],
     "prompt_number": 1
    },
    {
     "cell_type": "code",
     "collapsed": false,
     "input": [
      "url = \"http://comt.sura.org/thredds/dodsC/data/comt_1_archive/shelf_hypoxia/NOAA_NGOM/2005-2011_NGOM\""
     ],
     "language": "python",
     "metadata": {},
     "outputs": [],
     "prompt_number": 2
    },
    {
     "cell_type": "code",
     "collapsed": false,
     "input": [
      "nc = Dataset(url,'r')"
     ],
     "language": "python",
     "metadata": {},
     "outputs": [],
     "prompt_number": 3
    },
    {
     "cell_type": "code",
     "collapsed": false,
     "input": [
      "get_layers(nc)"
     ],
     "language": "python",
     "metadata": {},
     "outputs": [
      {
       "output_type": "stream",
       "stream": "stdout",
       "text": [
        "nc_id = shelf_hypoxia.NOAA_NGOM.2005-2011_NGOM\n",
        "Retrieving Hypoxia Layers\n",
        "{u'temp': 'pcolor_average_jet_None_None_grid_False'}\n"
       ]
      }
     ],
     "prompt_number": 4
    },
    {
     "cell_type": "code",
     "collapsed": false,
     "input": [],
     "language": "python",
     "metadata": {},
     "outputs": []
    }
   ],
   "metadata": {}
  }
 ]
}