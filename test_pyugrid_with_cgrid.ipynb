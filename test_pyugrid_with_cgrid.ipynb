{
 "metadata": {
  "name": "",
  "signature": "sha256:54bfb3ca5cfb812fa9b212dc6381bf240cf1c73e74ea31f33dad6118aede9266"
 },
 "nbformat": 3,
 "nbformat_minor": 0,
 "worksheets": [
  {
   "cells": [
    {
     "cell_type": "code",
     "collapsed": false,
     "input": [
      "import pyugrid\n",
      "import numpy as np"
     ],
     "language": "python",
     "metadata": {},
     "outputs": [],
     "prompt_number": 1
    },
    {
     "cell_type": "code",
     "collapsed": false,
     "input": [
      "url = \"http://comt.sura.org/thredds/dodsC/data/comt_1_archive/inundation_tropical/MDL_SLOSH/Hurricane_Ike_final_run_egm3\""
     ],
     "language": "python",
     "metadata": {},
     "outputs": [],
     "prompt_number": 2
    },
    {
     "cell_type": "code",
     "collapsed": false,
     "input": [
      "try:\n",
      "    ug = pyugrid.UGrid.from_ncfile(url)\n",
      "except:\n",
      "    print 'not ugrid'"
     ],
     "language": "python",
     "metadata": {},
     "outputs": [
      {
       "output_type": "stream",
       "stream": "stdout",
       "text": [
        "not ugrid\n"
       ]
      }
     ],
     "prompt_number": 4
    },
    {
     "cell_type": "code",
     "collapsed": false,
     "input": [],
     "language": "python",
     "metadata": {},
     "outputs": []
    }
   ],
   "metadata": {}
  }
 ]
}