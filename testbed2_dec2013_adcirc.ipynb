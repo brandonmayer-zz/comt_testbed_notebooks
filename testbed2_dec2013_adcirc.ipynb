{
 "metadata": {
  "name": "",
  "signature": "sha256:bec44e44ee067c2f3b5b1565eadaf39054a0314283aabf000b3d03de3a717641"
 },
 "nbformat": 3,
 "nbformat_minor": 0,
 "worksheets": [
  {
   "cells": [
    {
     "cell_type": "code",
     "collapsed": false,
     "input": [
      "import os\n",
      "from netCDF4 import Dataset\n",
      "import numpy as np\n",
      "import matplotlib.pyplot as plt\n",
      "import imp"
     ],
     "language": "python",
     "metadata": {},
     "outputs": [],
     "prompt_number": 6
    },
    {
     "cell_type": "code",
     "collapsed": false,
     "input": [],
     "language": "python",
     "metadata": {},
     "outputs": []
    },
    {
     "cell_type": "code",
     "collapsed": false,
     "input": [
      "url=\"http://comt.sura.org/thredds/dodsC/comt_2_full/pr_inundation_tropical/EMC_ADCIRC-WW3/Dec2013Storm_2D_preliminary_run_1_waves_only/00_dir.ncml\""
     ],
     "language": "python",
     "metadata": {},
     "outputs": [],
     "prompt_number": 3
    },
    {
     "cell_type": "code",
     "collapsed": false,
     "input": [
      "dataset = Dataset(url,'r')"
     ],
     "language": "python",
     "metadata": {},
     "outputs": [],
     "prompt_number": 4
    },
    {
     "cell_type": "code",
     "collapsed": false,
     "input": [
      "dataset.variables\n"
     ],
     "language": "python",
     "metadata": {},
     "outputs": [
      {
       "metadata": {},
       "output_type": "pyout",
       "prompt_number": 5,
       "text": [
        "OrderedDict([(u'longitude', <netCDF4.Variable object at 0x7f68b2939a70>), (u'latitude', <netCDF4.Variable object at 0x7f68b2939b00>), (u'time', <netCDF4.Variable object at 0x7f68b2939b90>), (u'tri', <netCDF4.Variable object at 0x7f68b2939c20>), (u'MAPSTA', <netCDF4.Variable object at 0x7f68b2939cb0>), (u'U', <netCDF4.Variable object at 0x7f68b2939d40>), (u'V', <netCDF4.Variable object at 0x7f68b2939dd0>), (u'dir', <netCDF4.Variable object at 0x7f68b2939e60>), (u'Depth', <netCDF4.Variable object at 0x7f68b2939ef0>), (u'hs', <netCDF4.Variable object at 0x7f68b2939f80>), (u'mssx', <netCDF4.Variable object at 0x7f68b28ed050>), (u'mssy', <netCDF4.Variable object at 0x7f68b28ed0e0>), (u'f', <netCDF4.Variable object at 0x7f68b28ed170>), (u'Fp3D', <netCDF4.Variable object at 0x7f68b28ed200>), (u'Fp2D', <netCDF4.Variable object at 0x7f68b28ed290>), (u'p2Tp', <netCDF4.Variable object at 0x7f68b28ed320>), (u't', <netCDF4.Variable object at 0x7f68b28ed3b0>), (u'uuss', <netCDF4.Variable object at 0x7f68b28ed440>), (u'vuss', <netCDF4.Variable object at 0x7f68b28ed4d0>), (u'wlv', <netCDF4.Variable object at 0x7f68b28ed560>), (u'U10', <netCDF4.Variable object at 0x7f68b28ed5f0>), (u'V10', <netCDF4.Variable object at 0x7f68b28ed680>)])"
       ]
      }
     ],
     "prompt_number": 5
    },
    {
     "cell_type": "code",
     "collapsed": false,
     "input": [],
     "language": "python",
     "metadata": {},
     "outputs": []
    }
   ],
   "metadata": {}
  }
 ]
}