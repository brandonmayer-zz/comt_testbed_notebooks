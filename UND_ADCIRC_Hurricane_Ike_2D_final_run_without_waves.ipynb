{
 "metadata": {
  "name": "",
  "signature": "sha256:77d635f940158994ee7139446c80dc1f31678f5a369a2052c68b72e1019bf336"
 },
 "nbformat": 3,
 "nbformat_minor": 0,
 "worksheets": [
  {
   "cells": [
    {
     "cell_type": "code",
     "collapsed": false,
     "input": [
      "from netCDF4 import Dataset\n",
      "import matplotlib.pyplot as plt\n",
      "from mpl_toolkits.basemap import pyproj\n",
      "import matplotlib.tri as Tri\n",
      "import pyugrid\n",
      "import numpy as np\n",
      "%matplotlib inline"
     ],
     "language": "python",
     "metadata": {},
     "outputs": [],
     "prompt_number": 22
    },
    {
     "cell_type": "code",
     "collapsed": false,
     "input": [
      "url=\"http://comt.sura.org/thredds/dodsC/data/comt_1_archive/inundation_tropical/UND_ADCIRC/Hurricane_Ike_2D_final_run_without_waves\""
     ],
     "language": "python",
     "metadata": {},
     "outputs": [],
     "prompt_number": 23
    },
    {
     "cell_type": "code",
     "collapsed": false,
     "input": [
      "latmin = 2701510.30484\n",
      "latmax = 3970976.47042\n",
      "lonmin = -11306972.8865\n",
      "lonmax = -8391358.88002\n",
      "mi = pyproj.Proj(\"+proj=merc +lon_0=0 +k=1 +x_0=0 +y_0=0 +a=6378137 +b=6378137 +units=m +no_defs \")\n",
      "lonmin, latmin = mi(lonmin, latmin, inverse=True)\n",
      "lonmax, latmax = mi(lonmax, latmax, inverse=True)\n",
      "print \"{0}, {1}, {2}, {3}\".format(lonmin,latmin,lonmax,latmax)"
     ],
     "language": "python",
     "metadata": {},
     "outputs": [
      {
       "output_type": "stream",
       "stream": "stdout",
       "text": [
        "-101.572265611, 23.5733981004, -75.3808593645, 33.5682622112\n"
       ]
      }
     ],
     "prompt_number": 24
    },
    {
     "cell_type": "code",
     "collapsed": false,
     "input": [
      "nc = Dataset(url,'r')"
     ],
     "language": "python",
     "metadata": {},
     "outputs": [],
     "prompt_number": 25
    },
    {
     "cell_type": "code",
     "collapsed": false,
     "input": [
      "lattemp = nc.variables['y'][:]\n",
      "lontemp = nc.variables['x'][:]"
     ],
     "language": "python",
     "metadata": {},
     "outputs": [],
     "prompt_number": 26
    },
    {
     "cell_type": "code",
     "collapsed": false,
     "input": [
      "nv = nc.variables['element'][:,:].T"
     ],
     "language": "python",
     "metadata": {},
     "outputs": [],
     "prompt_number": 27
    },
    {
     "cell_type": "code",
     "collapsed": false,
     "input": [
      "time = nc.variables['time'][:]"
     ],
     "language": "python",
     "metadata": {},
     "outputs": [],
     "prompt_number": 7
    },
    {
     "cell_type": "code",
     "collapsed": false,
     "input": [
      "tri = Tri.Triangulation(lontemp,lattemp, nc.variables['element'][:,:]-1)"
     ],
     "language": "python",
     "metadata": {},
     "outputs": [],
     "prompt_number": 8
    },
    {
     "cell_type": "code",
     "collapsed": false,
     "input": [
      "plt.figure()\n",
      "plt.gca().set_aspect('equal')\n",
      "plt.triplot(tri)"
     ],
     "language": "python",
     "metadata": {},
     "outputs": [
      {
       "metadata": {},
       "output_type": "display_data",
       "png": "[encoded data removed]",
       "text": [
        "<matplotlib.figure.Figure at 0x7fd65fb52f10>"
       ]
      }
     ],
     "prompt_number": 9
    },
    {
     "cell_type": "code",
     "collapsed": false,
     "input": [
      "ug = pyugrid.UGrid.from_ncfile(url)"
     ],
     "language": "python",
     "metadata": {},
     "outputs": [],
     "prompt_number": 10
    },
    {
     "cell_type": "markdown",
     "metadata": {},
     "source": [
      "Try using pyugrid"
     ]
    },
    {
     "cell_type": "code",
     "collapsed": false,
     "input": [
      "lon = ug.nodes[:,0]\n",
      "lat = ug.nodes[:,1]\n",
      "nv = ug.faces[:]\n",
      "triang = Tri.Triangulation(lon, lat, triangles=nv)"
     ],
     "language": "python",
     "metadata": {},
     "outputs": [],
     "prompt_number": 13
    },
    {
     "cell_type": "code",
     "collapsed": false,
     "input": [
      "nc.variables.keys()"
     ],
     "language": "python",
     "metadata": {},
     "outputs": [
      {
       "metadata": {},
       "output_type": "pyout",
       "prompt_number": 16,
       "text": [
        "[u'time',\n",
        " u'x',\n",
        " u'y',\n",
        " u'element',\n",
        " u'adcirc_mesh',\n",
        " u'neta',\n",
        " u'nvdll',\n",
        " u'max_nvdll',\n",
        " u'ibtypee',\n",
        " u'nbdv',\n",
        " u'nvel',\n",
        " u'nvell',\n",
        " u'max_nvell',\n",
        " u'ibtype',\n",
        " u'nbvv',\n",
        " u'depth',\n",
        " u'zeta',\n",
        " u'u-vel',\n",
        " u'v-vel',\n",
        " u'pressure',\n",
        " u'windx',\n",
        " u'windy',\n",
        " u'zeta_max',\n",
        " u'radstress_max',\n",
        " u'vel_max',\n",
        " u'wind_max',\n",
        " u'pressure_min']"
       ]
      }
     ],
     "prompt_number": 16
    },
    {
     "cell_type": "code",
     "collapsed": false,
     "input": [
      "z = nc.variables['zeta_max'][:]\n",
      "print z.min()\n",
      "print z.max()"
     ],
     "language": "python",
     "metadata": {},
     "outputs": [
      {
       "output_type": "stream",
       "stream": "stdout",
       "text": [
        "-0.44830801\n",
        "6.12732877421\n"
       ]
      }
     ],
     "prompt_number": 20
    },
    {
     "cell_type": "code",
     "collapsed": false,
     "input": [
      "lvls = np.arange(z.min(),z.max(),0.2)\n",
      "plt.tricontourf(triang,z,levels=lvls)"
     ],
     "language": "python",
     "metadata": {},
     "outputs": [
      {
       "metadata": {},
       "output_type": "pyout",
       "prompt_number": 29,
       "text": [
        "<matplotlib.tri.tricontour.TriContourSet instance at 0x7fd65e2e7b00>"
       ]
      },
      {
       "metadata": {},
       "output_type": "display_data",
       "png": "[encoded data removed]",
       "text": [
        "<matplotlib.figure.Figure at 0x7fd65e361410>"
       ]
      }
     ],
     "prompt_number": 29
    },
    {
     "cell_type": "code",
     "collapsed": false,
     "input": [],
     "language": "python",
     "metadata": {},
     "outputs": []
    }
   ],
   "metadata": {}
  }
 ]
}