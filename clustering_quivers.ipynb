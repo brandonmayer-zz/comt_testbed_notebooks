{
 "metadata": {
  "name": "",
  "signature": "sha256:63f5e04bf76a7c881b3fa8b16bc6161b535f86c4ee568e6d8e1db70a5aee08c2"
 },
 "nbformat": 3,
 "nbformat_minor": 0,
 "worksheets": [
  {
   "cells": [
    {
     "cell_type": "code",
     "collapsed": false,
     "input": [
      "import scipy\n",
      "from netCDF4 import Dataset\n",
      "import matplotlib.pyplot as plt\n",
      "import matplotlib.tri as Tri\n",
      "import pyugrid\n",
      "import cartopy.crs as ccrs\n",
      "import numpy as np\n",
      "%matplotlib inline"
     ],
     "language": "python",
     "metadata": {},
     "outputs": [],
     "prompt_number": 2
    },
    {
     "cell_type": "code",
     "collapsed": false,
     "input": [
      "url = \"http://comt.sura.org/thredds/dodsC/data/comt_1_archive/inundation_tropical/UND_ADCIRC/Hurricane_Ike_3D_final_run_with_waves\"\n",
      "nc = Dataset(url,'r')\n",
      "variables = ['u-vel','v-vel']"
     ],
     "language": "python",
     "metadata": {},
     "outputs": [],
     "prompt_number": 8
    },
    {
     "cell_type": "code",
     "collapsed": false,
     "input": [
      "ug = pyugrid.UGrid.from_nc_dataset(nc)\n",
      "lat = ug.nodes[:,0]\n",
      "lon = ug.nodes[:,1]"
     ],
     "language": "python",
     "metadata": {},
     "outputs": [],
     "prompt_number": 5
    },
    {
     "cell_type": "code",
     "collapsed": false,
     "input": [
      "time_idx=5\n",
      "u = nc.variables[variables[0]][time_idx]\n",
      "v = nc.variables[variables[1]][time_idx]"
     ],
     "language": "python",
     "metadata": {},
     "outputs": [],
     "prompt_number": 9
    },
    {
     "cell_type": "code",
     "collapsed": false,
     "input": [
      "K=1000\n"
     ],
     "language": "python",
     "metadata": {},
     "outputs": []
    }
   ],
   "metadata": {}
  }
 ]
}