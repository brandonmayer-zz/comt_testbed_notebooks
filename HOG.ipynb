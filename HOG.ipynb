{
 "metadata": {
  "name": "",
  "signature": "sha256:4b6c06954af015c2fb6a08e1cfafd5552a8548671c4ee6a31d79b46b87c97852"
 },
 "nbformat": 3,
 "nbformat_minor": 0,
 "worksheets": [
  {
   "cells": [
    {
     "cell_type": "code",
     "collapsed": false,
     "input": [
      "from netCDF4 import Dataset\n",
      "import matplotlib.pyplot as plt\n",
      "import matplotlib as mpl\n",
      "import pyproj\n",
      "import matplotlib.tri as Tri\n",
      "import pyugrid\n",
      "import numpy as np\n",
      "%matplotlib inline"
     ],
     "language": "python",
     "metadata": {},
     "outputs": [],
     "prompt_number": 27
    },
    {
     "cell_type": "code",
     "collapsed": false,
     "input": [
      "url=\"http://comt.sura.org/thredds/dodsC/data/comt_1_archive/inundation_tropical/UND_ADCIRC/Hurricane_Ike_2D_final_run_without_waves\""
     ],
     "language": "python",
     "metadata": {},
     "outputs": [],
     "prompt_number": 2
    },
    {
     "cell_type": "code",
     "collapsed": false,
     "input": [
      "x = np.array([1,1,1,-1,-1,-1,-1,-1,-2])\n",
      "y = np.zeros(len(x))\n",
      "print 'weights = {0}'.format(np.linalg.norm(np.asarray([x,y]),ord=1,axis=0))\n",
      "nbins = 36\n",
      "extent = (-np.pi, np.pi)\n",
      "counts, bins = np.histogram(np.arctan2(y,x), \n",
      "                            bins=nbins, \n",
      "                            range = extent, \n",
      "                            weights = np.linalg.norm(np.asarray([x,y]),ord=1,axis=0))\n",
      "print 'counts = {0}'.format(counts)\n",
      "print 'bins = {0}'.format(bins)"
     ],
     "language": "python",
     "metadata": {},
     "outputs": [
      {
       "output_type": "stream",
       "stream": "stdout",
       "text": [
        "weights = [ 1.  1.  1.  1.  1.  1.  1.  1.  2.]\n",
        "counts = [ 0.  0.  0.  0.  0.  0.  0.  0.  0.  0.  0.  0.  0.  0.  0.  0.  0.  0.\n",
        "  3.  0.  0.  0.  0.  0.  0.  0.  0.  0.  0.  0.  0.  0.  0.  0.  0.  7.]\n",
        "bins = [-3.14159265 -2.96705973 -2.7925268  -2.61799388 -2.44346095 -2.26892803\n",
        " -2.0943951  -1.91986218 -1.74532925 -1.57079633 -1.3962634  -1.22173048\n",
        " -1.04719755 -0.87266463 -0.6981317  -0.52359878 -0.34906585 -0.17453293\n",
        "  0.          0.17453293  0.34906585  0.52359878  0.6981317   0.87266463\n",
        "  1.04719755  1.22173048  1.3962634   1.57079633  1.74532925  1.91986218\n",
        "  2.0943951   2.26892803  2.44346095  2.61799388  2.7925268   2.96705973\n",
        "  3.14159265]\n"
       ]
      }
     ],
     "prompt_number": 3
    },
    {
     "cell_type": "code",
     "collapsed": false,
     "input": [
      "bincenters = (bins[:-1] + bins[1:])/2\n",
      "print 'bincenters (rads) = {0}'.format(bincenters)\n",
      "print 'bincenters (degrees) = {0}'.format(np.degrees(bincenters))\n",
      "xbincenters = np.cos(bincenters)\n",
      "print 'xbincenters = {0}'.format(xbincenters)\n",
      "print 'xbincenters * counts = {0}'.format(xbincenters*counts)\n",
      "ybincenters = np.sin(bincenters)\n",
      "print 'ybincenters = {0}'.format(ybincenters)\n",
      "print 'ybincenters * counts = {0}'.format(ybincenters*counts)"
     ],
     "language": "python",
     "metadata": {},
     "outputs": [
      {
       "output_type": "stream",
       "stream": "stdout",
       "text": [
        "bincenters (rads) = [-3.05432619 -2.87979327 -2.70526034 -2.53072742 -2.35619449 -2.18166156\n",
        " -2.00712864 -1.83259571 -1.65806279 -1.48352986 -1.30899694 -1.13446401\n",
        " -0.95993109 -0.78539816 -0.61086524 -0.43633231 -0.26179939 -0.08726646\n",
        "  0.08726646  0.26179939  0.43633231  0.61086524  0.78539816  0.95993109\n",
        "  1.13446401  1.30899694  1.48352986  1.65806279  1.83259571  2.00712864\n",
        "  2.18166156  2.35619449  2.53072742  2.70526034  2.87979327  3.05432619]\n",
        "bincenters (degrees) = [-175. -165. -155. -145. -135. -125. -115. -105.  -95.  -85.  -75.  -65.\n",
        "  -55.  -45.  -35.  -25.  -15.   -5.    5.   15.   25.   35.   45.   55.\n",
        "   65.   75.   85.   95.  105.  115.  125.  135.  145.  155.  165.  175.]\n",
        "xbincenters = [-0.9961947  -0.96592583 -0.90630779 -0.81915204 -0.70710678 -0.57357644\n",
        " -0.42261826 -0.25881905 -0.08715574  0.08715574  0.25881905  0.42261826\n",
        "  0.57357644  0.70710678  0.81915204  0.90630779  0.96592583  0.9961947\n",
        "  0.9961947   0.96592583  0.90630779  0.81915204  0.70710678  0.57357644\n",
        "  0.42261826  0.25881905  0.08715574 -0.08715574 -0.25881905 -0.42261826\n",
        " -0.57357644 -0.70710678 -0.81915204 -0.90630779 -0.96592583 -0.9961947 ]\n",
        "xbincenters * counts = [-0.         -0.         -0.         -0.         -0.         -0.         -0.\n",
        " -0.         -0.          0.          0.          0.          0.          0.\n",
        "  0.          0.          0.          0.          2.98858409  0.          0.\n",
        "  0.          0.          0.          0.          0.          0.         -0.\n",
        " -0.         -0.         -0.         -0.         -0.         -0.         -0.\n",
        " -6.97336289]\n",
        "ybincenters = [-0.08715574 -0.25881905 -0.42261826 -0.57357644 -0.70710678 -0.81915204\n",
        " -0.90630779 -0.96592583 -0.9961947  -0.9961947  -0.96592583 -0.90630779\n",
        " -0.81915204 -0.70710678 -0.57357644 -0.42261826 -0.25881905 -0.08715574\n",
        "  0.08715574  0.25881905  0.42261826  0.57357644  0.70710678  0.81915204\n",
        "  0.90630779  0.96592583  0.9961947   0.9961947   0.96592583  0.90630779\n",
        "  0.81915204  0.70710678  0.57357644  0.42261826  0.25881905  0.08715574]\n",
        "ybincenters * counts = [-0.         -0.         -0.         -0.         -0.         -0.         -0.\n",
        " -0.         -0.         -0.         -0.         -0.         -0.         -0.\n",
        " -0.         -0.         -0.         -0.          0.26146723  0.          0.\n",
        "  0.          0.          0.          0.          0.          0.          0.\n",
        "  0.          0.          0.          0.          0.          0.          0.\n",
        "  0.6100902 ]\n"
       ]
      }
     ],
     "prompt_number": 4
    },
    {
     "cell_type": "code",
     "collapsed": false,
     "input": [
      "\n",
      "xnorm = (xbincenters*counts)\n",
      "xnorm /= np.linalg.norm(xnorm)\n",
      "print 'xnorm = {0}'.format(xnorm)\n",
      "print '|xnorm| = {0}'.format(sum(xnorm**2))\n",
      "ynorm = (ybincenters*counts)\n",
      "ynorm /= np.linalg.norm(ynorm)\n",
      "print 'ynorm = {0}'.format(ynorm)\n",
      "print '|ynorm| = {0}'.format(sum(ynorm**2))\n"
     ],
     "language": "python",
     "metadata": {},
     "outputs": [
      {
       "output_type": "stream",
       "stream": "stdout",
       "text": [
        "xnorm = [-0.         -0.         -0.         -0.         -0.         -0.         -0.\n",
        " -0.         -0.          0.          0.          0.          0.          0.\n",
        "  0.          0.          0.          0.          0.3939193   0.          0.\n",
        "  0.          0.          0.          0.          0.          0.         -0.\n",
        " -0.         -0.         -0.         -0.         -0.         -0.         -0.\n",
        " -0.91914503]\n",
        "|xnorm| = 1.0\n",
        "ynorm = [-0.         -0.         -0.         -0.         -0.         -0.         -0.\n",
        " -0.         -0.         -0.         -0.         -0.         -0.         -0.\n",
        " -0.         -0.         -0.         -0.          0.3939193   0.          0.\n",
        "  0.          0.          0.          0.          0.          0.          0.\n",
        "  0.          0.          0.          0.          0.          0.          0.\n",
        "  0.91914503]\n",
        "|ynorm| = 1.0\n"
       ]
      }
     ],
     "prompt_number": 85
    },
    {
     "cell_type": "code",
     "collapsed": false,
     "input": [
      "fig, ax = plt.subplots()\n",
      "C = np.sqrt(xnorm**2 + ynorm**2)\n",
      "cmap=plt.cm.gray\n",
      "norm = mpl.colors.BoundaryNorm(bins,cmap.N)\n",
      "colors = plt.cm.gray(C)\n",
      "plt.quiver(np.zeros(len(xnorm)),\n",
      "           np.zeros(len(ynorm)),\n",
      "           xnorm,\n",
      "           ynorm)\n",
      "\n",
      "ax.set_xlim([-5,5])\n",
      "ax.set_ylim([-1,5])\n",
      "plt.show()"
     ],
     "language": "python",
     "metadata": {},
     "outputs": [
      {
       "metadata": {},
       "output_type": "display_data",
       "png": "[encoded data removed]",
       "text": [
        "<matplotlib.figure.Figure at 0x116fc1110>"
       ]
      }
     ],
     "prompt_number": 46
    },
    {
     "cell_type": "code",
     "collapsed": false,
     "input": [
      "print C\n",
      "print C.shape"
     ],
     "language": "python",
     "metadata": {},
     "outputs": [
      {
       "output_type": "stream",
       "stream": "stdout",
       "text": [
        "[ 0.          0.          0.          0.          0.          0.          0.\n",
        "  0.          0.          0.          0.          0.          0.          0.\n",
        "  0.          0.          0.          0.          0.55708601  0.          0.\n",
        "  0.          0.          0.          0.          0.          0.          0.\n",
        "  0.          0.          0.          0.          0.          0.          0.\n",
        "  1.29986737]\n",
        "(36,)\n"
       ]
      }
     ],
     "prompt_number": 11
    },
    {
     "cell_type": "code",
     "collapsed": false,
     "input": [
      "plt.quiver([0],[0],[1],[1])"
     ],
     "language": "python",
     "metadata": {},
     "outputs": [
      {
       "metadata": {},
       "output_type": "pyout",
       "prompt_number": 36,
       "text": [
        "<matplotlib.quiver.Quiver at 0x116fff210>"
       ]
      },
      {
       "metadata": {},
       "output_type": "display_data",
       "png": "[encoded data removed]",
       "text": [
        "<matplotlib.figure.Figure at 0x116fda190>"
       ]
      }
     ],
     "prompt_number": 36
    },
    {
     "cell_type": "code",
     "collapsed": false,
     "input": [
      "ax = plt.axes()\n",
      "for x, y in zip(xnorm, ynorm):\n",
      "    ax.arrow(0,0,x,y)\n",
      "    "
     ],
     "language": "python",
     "metadata": {},
     "outputs": [
      {
       "metadata": {},
       "output_type": "display_data",
       "png": "[encoded data removed]",
       "text": [
        "<matplotlib.figure.Figure at 0x1178dea10>"
       ]
      }
     ],
     "prompt_number": 49
    },
    {
     "cell_type": "code",
     "collapsed": false,
     "input": [
      "colormap = mpl.cm.ScalarMappable(cmap=plt.cm.gray)\n",
      "colormap.set_array(np.sqrt(xnorm**2, ynorm**2))\n",
      "colors = colormap.to_rgba(np.sqrt(xnorm**2, ynorm**2))\n",
      "colors = plt.cm.jet(np.linspace(0,1,len(xnorm)))\n",
      "\n",
      "\n",
      "for i in xrange(len(xnorm)):\n",
      "    plt.plot([0,xnorm[i]], [0,ynorm[i]], color=colors[i])\n",
      "\n",
      "ax = plt.gca()\n",
      "ax.set_xlim(-1,1)\n",
      "ax.set_ylim(-1,1)\n",
      "\n"
     ],
     "language": "python",
     "metadata": {},
     "outputs": [
      {
       "metadata": {},
       "output_type": "pyout",
       "prompt_number": 83,
       "text": [
        "(-1, 1)"
       ]
      },
      {
       "metadata": {},
       "output_type": "display_data",
       "png": "[encoded data removed]",
       "text": [
        "<matplotlib.figure.Figure at 0x118333ed0>"
       ]
      }
     ],
     "prompt_number": 83
    },
    {
     "cell_type": "code",
     "collapsed": false,
     "input": [
      "print np.sqrt(xnorm**2 + ynorm**2)"
     ],
     "language": "python",
     "metadata": {},
     "outputs": [
      {
       "output_type": "stream",
       "stream": "stdout",
       "text": [
        "[ 0.          0.          0.          0.          0.          0.          0.\n",
        "  0.          0.          0.          0.          0.          0.          0.\n",
        "  0.          0.          0.          0.          0.55708601  0.          0.\n",
        "  0.          0.          0.          0.          0.          0.          0.\n",
        "  0.          0.          0.          0.          0.          0.          0.\n",
        "  1.29986737]\n"
       ]
      }
     ],
     "prompt_number": 84
    },
    {
     "cell_type": "code",
     "collapsed": false,
     "input": [
      "U = xbincenters*counts\n",
      "V = ybincenters*counts\n",
      "print 'U = {0}'.format(U)\n",
      "print 'V = {0}'.format(V)\n",
      "UVnorm = np.linalg.norm([U,V], ord = 1, axis=0)\n",
      "print 'UVnorm = {0}'.format(UVnorm)\n",
      "Unorm = U[np.nonzero(U)]/UVnorm[np.nonzero(UVnorm)]\n",
      "Vnorm = V[np.nonzero(V)]/UVnorm[np.nonzero(UVnorm)]\n",
      "print np.linalg.norm([Unorm, Vnorm], ord = 1, axis = 0)"
     ],
     "language": "python",
     "metadata": {},
     "outputs": [
      {
       "output_type": "stream",
       "stream": "stdout",
       "text": [
        "U = [-0.         -0.         -0.         -0.         -0.         -0.         -0.\n",
        " -0.         -0.          0.          0.          0.          0.          0.\n",
        "  0.          0.          0.          0.          2.98858409  0.          0.\n",
        "  0.          0.          0.          0.          0.          0.         -0.\n",
        " -0.         -0.         -0.         -0.         -0.         -0.         -0.\n",
        " -6.97336289]\n",
        "V = [-0.         -0.         -0.         -0.         -0.         -0.         -0.\n",
        " -0.         -0.         -0.         -0.         -0.         -0.         -0.\n",
        " -0.         -0.         -0.         -0.          0.26146723  0.          0.\n",
        "  0.          0.          0.          0.          0.          0.          0.\n",
        "  0.          0.          0.          0.          0.          0.          0.\n",
        "  0.6100902 ]\n",
        "UVnorm = [ 0.          0.          0.          0.          0.          0.          0.\n",
        "  0.          0.          0.          0.          0.          0.          0.\n",
        "  0.          0.          0.          0.          3.25005132  0.          0.\n",
        "  0.          0.          0.          0.          0.          0.          0.\n",
        "  0.          0.          0.          0.          0.          0.          0.\n",
        "  7.58345309]\n",
        "[ 1.  1.]\n"
       ]
      }
     ],
     "prompt_number": 92
    },
    {
     "cell_type": "code",
     "collapsed": false,
     "input": [
      "plt.quiver(np.zeros(len(U)),\n",
      "           np.zeros(len(V)),\n",
      "           U,\n",
      "           V)\n",
      "plt.xlim(-1,1)"
     ],
     "language": "python",
     "metadata": {},
     "outputs": [
      {
       "metadata": {},
       "output_type": "pyout",
       "prompt_number": 94,
       "text": [
        "(-1, 1)"
       ]
      },
      {
       "metadata": {},
       "output_type": "display_data",
       "png": "[encoded data removed]",
       "text": [
        "<matplotlib.figure.Figure at 0x117d8eb10>"
       ]
      }
     ],
     "prompt_number": 94
    },
    {
     "cell_type": "code",
     "collapsed": false,
     "input": [],
     "language": "python",
     "metadata": {},
     "outputs": []
    }
   ],
   "metadata": {}
  }
 ]
}