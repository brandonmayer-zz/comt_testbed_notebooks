{
 "metadata": {
  "name": "",
  "signature": "sha256:fbe27a4ff9fe4479c822d4ae067161aa3ada224412b1edb8dbeffda6b697e9ae"
 },
 "nbformat": 3,
 "nbformat_minor": 0,
 "worksheets": [
  {
   "cells": [
    {
     "cell_type": "code",
     "collapsed": false,
     "input": [
      "import pyugrid\n",
      "import numpy as np\n",
      "from netCDF4 import Dataset"
     ],
     "language": "python",
     "metadata": {},
     "outputs": [],
     "prompt_number": 1
    },
    {
     "cell_type": "code",
     "collapsed": false,
     "input": [
      "url = \"http://comt.sura.org/thredds/dodsC/data/comt_1_archive/inundation_tropical/USF_FVCOM/Hurricane_Ike_2D_final_run_with_waves\""
     ],
     "language": "python",
     "metadata": {},
     "outputs": [],
     "prompt_number": 2
    },
    {
     "cell_type": "code",
     "collapsed": false,
     "input": [
      "ug = pyugrid.UGrid.from_ncfile(url)"
     ],
     "language": "python",
     "metadata": {},
     "outputs": [],
     "prompt_number": 6
    },
    {
     "cell_type": "code",
     "collapsed": false,
     "input": [
      "lon = ug.nodes[:,0]\n",
      "lat = ug.nodes[:,1]\n",
      "nv  = ug.faces[:]"
     ],
     "language": "python",
     "metadata": {},
     "outputs": [],
     "prompt_number": 7
    },
    {
     "cell_type": "code",
     "collapsed": false,
     "input": [
      "nc = Dataset(url,'r')"
     ],
     "language": "python",
     "metadata": {},
     "outputs": [],
     "prompt_number": 8
    },
    {
     "cell_type": "markdown",
     "metadata": {},
     "source": [
      "Loading the latc and lonc via netCDF file as groundtruth."
     ]
    },
    {
     "cell_type": "code",
     "collapsed": false,
     "input": [
      "nclatc = nc.variables['latc'][:]\n",
      "nclonc = nc.variables['lonc'][:]\n",
      "print nclatc\n",
      "print nclonc"
     ],
     "language": "python",
     "metadata": {},
     "outputs": [
      {
       "output_type": "stream",
       "stream": "stdout",
       "text": [
        "[ 21.1057415   21.09741211  21.10286331 ...,  31.00714874  31.00508308\n",
        "  31.00723076]\n",
        "[-86.76239014 -86.75198364 -86.73300171 ..., -91.73492432 -91.73596191\n",
        " -91.73226929]\n"
       ]
      }
     ],
     "prompt_number": 20
    },
    {
     "cell_type": "markdown",
     "metadata": {},
     "source": [
      "Computing latc and lonc as the barycentric coordinate of each triangle (face). I get the lat/lon of each triangle by flattening the faces array and indexing the lat array. I then reshape back to the 8xx,xxx X 3 array and compute the mean accross the column for each row to give me back the average of the 8xx,xxx faces."
     ]
    },
    {
     "cell_type": "code",
     "collapsed": false,
     "input": [
      "latc = np.mean(lat[nv.flatten()].reshape(nv.shape),1)\n",
      "lonc = np.mean(lon[nv.flatten()].reshape(nv.shape),1)\n",
      "print latc\n",
      "print lonc"
     ],
     "language": "python",
     "metadata": {},
     "outputs": [
      {
       "output_type": "stream",
       "stream": "stdout",
       "text": [
        "[ 21.1057415   21.09741084  21.10286331 ...,  31.00714874  31.00508372\n",
        "  31.00723012]\n",
        "[-86.76237996 -86.75197347 -86.73300171 ..., -91.73493449 -91.73595174\n",
        " -91.73225911]\n"
       ]
      }
     ],
     "prompt_number": 22
    },
    {
     "cell_type": "code",
     "collapsed": false,
     "input": [
      "print \"Mean Squared Error of latc: {0}\".format(np.dot(latc-nclatc,latc-nclatc)/len(latc))\n",
      "print \"Mean Squared Error of lonc: {0}\".format(np.dot(lonc-nclonc,lonc-nclonc)/len(lonc))"
     ],
     "language": "python",
     "metadata": {},
     "outputs": [
      {
       "output_type": "stream",
       "stream": "stdout",
       "text": [
        "Mean Squared Error of latc: 2.12872724215e-12\n",
        "Mean Squared Error of lonc: 6.91057476515e-11\n"
       ]
      }
     ],
     "prompt_number": 27
    },
    {
     "cell_type": "markdown",
     "metadata": {},
     "source": [
      "It seems that the barycentric coordinates are accurate to 4 decimal places. This may be due to roundoff or they are using a different formula for computing the centroid of the triangle. We would have to ask the modler. However the mean squared error is tiny so I'm inclined to believe the error is caued by different machine precisions.\n",
      "\n",
      "\n",
      "\n"
     ]
    }
   ],
   "metadata": {}
  }
 ]
}