{
 "metadata": {
  "name": "",
  "signature": "sha256:ec6015b3bf72bc604b821f2b421b50f157bf3aed367b692212f02dceacf42c6f"
 },
 "nbformat": 3,
 "nbformat_minor": 0,
 "worksheets": [
  {
   "cells": [
    {
     "cell_type": "code",
     "collapsed": false,
     "input": [
      "import sys\n",
      "import traceback\n",
      "\n",
      "from netCDF4 import Dataset\n",
      "import matplotlib.pyplot as plt\n",
      "import matplotlib.tri as Tri\n",
      "import numpy as np\n",
      "import pyugrid\n",
      "%matplotlib inline\n",
      "\n",
      "url = \"http://comt.sura.org/thredds/dodsC/data/comt_1_archive/inundation_extratropical/UND_ADCIRC/2005_2D_final_run_without_waves\""
     ],
     "language": "python",
     "metadata": {},
     "outputs": [],
     "prompt_number": 16
    },
    {
     "cell_type": "code",
     "collapsed": false,
     "input": [
      "try:\n",
      "    ug = pyugrid.UGrid.from_ncfile(url)\n",
      "    lon = ug.nodes[:,0]\n",
      "    lat = ug.nodes[:,1]\n",
      "    nv  = ug.faces[:]\n",
      "    triang = Tri.Triangulation(lon, lat, triangles=nv)\n",
      "    print \"is ugrid\"\n",
      "except:\n",
      "    exc_type, exc_value, exc_traceback = sys.exc_info()\n",
      "    print repr(traceback.format_exception(exc_type, exc_value, exc_traceback))\n",
      "    print \"is not ugrid\"\n",
      "    "
     ],
     "language": "python",
     "metadata": {},
     "outputs": [
      {
       "output_type": "stream",
       "stream": "stdout",
       "text": [
        "is ugrid\n"
       ]
      }
     ],
     "prompt_number": 8
    },
    {
     "cell_type": "code",
     "collapsed": false,
     "input": [
      "dataset = Dataset(url,'r')\n",
      "print dataset.variables.keys()"
     ],
     "language": "python",
     "metadata": {},
     "outputs": [
      {
       "output_type": "stream",
       "stream": "stdout",
       "text": [
        "[u'time', u'x', u'y', u'element', u'nvdll', u'max_nvdll', u'max_nvell', u'neta', u'nope', u'nvel', u'nbdv', u'depth', u'adcirc_mesh', u'zeta', u'u-vel', u'v-vel', u'pressure', u'windx', u'windy', u'zeta_max']\n"
       ]
      }
     ],
     "prompt_number": 10
    },
    {
     "cell_type": "code",
     "collapsed": false,
     "input": [
      "z = dataset.variables['zeta_max'][:]\n",
      "print \"{0}, {1}\".format(z.min(), z.max())\n",
      "print z.var(0)"
     ],
     "language": "python",
     "metadata": {},
     "outputs": [
      {
       "output_type": "stream",
       "stream": "stdout",
       "text": [
        "2.191058035, 2.315928173\n",
        "0.000285372015787\n"
       ]
      }
     ],
     "prompt_number": 21
    },
    {
     "cell_type": "markdown",
     "metadata": {},
     "source": [
      "###Strange data, not much variation in value of zeta_max###"
     ]
    },
    {
     "cell_type": "code",
     "collapsed": false,
     "input": [
      "lvls = np.arange(z.min(),z.max(), 0.001)\n",
      "plt.tricontourf(triang,z,levels=lvls)"
     ],
     "language": "python",
     "metadata": {},
     "outputs": [
      {
       "metadata": {},
       "output_type": "pyout",
       "prompt_number": 23,
       "text": [
        "<matplotlib.tri.tricontour.TriContourSet instance at 0x7fd65127eb48>"
       ]
      },
      {
       "metadata": {},
       "output_type": "display_data",
       "png": "[encoded data removed]",
       "text": [
        "<matplotlib.figure.Figure at 0x7fd6512f8f90>"
       ]
      }
     ],
     "prompt_number": 23
    },
    {
     "cell_type": "code",
     "collapsed": false,
     "input": [],
     "language": "python",
     "metadata": {},
     "outputs": []
    }
   ],
   "metadata": {}
  }
 ]
}