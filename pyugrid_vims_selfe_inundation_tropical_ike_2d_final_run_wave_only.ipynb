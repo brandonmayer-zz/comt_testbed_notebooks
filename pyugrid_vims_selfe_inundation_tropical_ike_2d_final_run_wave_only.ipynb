{
 "metadata": {
  "name": "",
  "signature": "sha256:7854240dd4da341ccace03879f31661bf06527fdfc6d1c1716076d1a93006214"
 },
 "nbformat": 3,
 "nbformat_minor": 0,
 "worksheets": [
  {
   "cells": [
    {
     "cell_type": "code",
     "collapsed": false,
     "input": [
      "from netCDF4 import Dataset\n",
      "import matplotlib.pyplot as plt\n",
      "import pyugrid\n",
      "import matplotlib.tri as Tri\n",
      "%matplotlib inline\n",
      "url = \"http://comt.sura.org/thredds/dodsC/data/comt_1_archive/inundation_tropical/VIMS_SELFE/Hurricane_Ike_2D_final_run_wave_only\""
     ],
     "language": "python",
     "metadata": {},
     "outputs": [],
     "prompt_number": 3
    },
    {
     "cell_type": "code",
     "collapsed": false,
     "input": [
      "try:\n",
      "    ug = pyugrid.UGrid.from_ncfile(url)\n",
      "    lon = ug.nodes[:,0]\n",
      "    lat = ug.nodes[:,1]\n",
      "    nv  = ug.faces[:]\n",
      "    triang = Tri.Triangulation(lon, lat, triangles=nv)\n",
      "    print \"is ugrid\"\n",
      "except:\n",
      "    print \"is not ugrid\""
     ],
     "language": "python",
     "metadata": {},
     "outputs": [
      {
       "output_type": "stream",
       "stream": "stdout",
       "text": [
        "is ugrid\n"
       ]
      }
     ],
     "prompt_number": 4
    },
    {
     "cell_type": "code",
     "collapsed": false,
     "input": [],
     "language": "python",
     "metadata": {},
     "outputs": []
    }
   ],
   "metadata": {}
  }
 ]
}