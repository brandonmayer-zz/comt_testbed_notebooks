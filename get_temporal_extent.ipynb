{
 "metadata": {
  "name": "",
  "signature": "sha256:5743715c201c895842edf2a65c24ad0699806528b9bf6f460c145259d119242e"
 },
 "nbformat": 3,
 "nbformat_minor": 0,
 "worksheets": []
}