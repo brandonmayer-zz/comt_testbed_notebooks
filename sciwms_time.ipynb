{
 "metadata": {
  "name": "",
  "signature": "sha256:100a2b0dde6b56e0b83075292354e727347b04667e21b0f3b565c1acb52a640a"
 },
 "nbformat": 3,
 "nbformat_minor": 0,
 "worksheets": [
  {
   "cells": [
    {
     "cell_type": "code",
     "collapsed": false,
     "input": [
      "import bisect\n",
      "import datetime\n",
      "import netCDF4\n",
      "import re\n",
      "import sys"
     ],
     "language": "python",
     "metadata": {},
     "outputs": [],
     "prompt_number": 1
    },
    {
     "cell_type": "code",
     "collapsed": false,
     "input": [
      "url = 'http://comt.sura.org/thredds/dodsC/data/comt_1_archive/inundation_tropical/UND_ADCIRC/Hurricane_Ike_2D_final_run_with_waves'\n",
      "#url = 'http://comt.sura.org/thredds/dodsC/data/comt_1_archive/inundation_tropical/USF_FVCOM/Hurricane_Ike_2D_final_run_with_waves'"
     ],
     "language": "python",
     "metadata": {},
     "outputs": [],
     "prompt_number": 2
    },
    {
     "cell_type": "code",
     "collapsed": false,
     "input": [
      "nc = netCDF4.Dataset(url,'r')"
     ],
     "language": "python",
     "metadata": {},
     "outputs": [],
     "prompt_number": 31
    },
    {
     "cell_type": "code",
     "collapsed": false,
     "input": [
      "times = nc.variables['time'][:]"
     ],
     "language": "python",
     "metadata": {},
     "outputs": [],
     "prompt_number": 6
    },
    {
     "cell_type": "code",
     "collapsed": false,
     "input": [
      "datestart = '2008-09-11T15:05:10' #just for testing\n",
      "datestart = datetime.datetime.strptime(datestart, \"%Y-%m-%dT%H:%M:%S\" )  # datestr --> datetime obj\n",
      "print datestart"
     ],
     "language": "python",
     "metadata": {},
     "outputs": [
      {
       "output_type": "stream",
       "stream": "stdout",
       "text": [
        "2008-09-11 15:05:10\n"
       ]
      }
     ],
     "prompt_number": 7
    },
    {
     "cell_type": "code",
     "collapsed": false,
     "input": [
      "datestart = round(netCDF4.date2num(datestart, units=nc.variables['time'].units))  # datetime obj --> netcdf datenum\n",
      "print datestart"
     ],
     "language": "python",
     "metadata": {},
     "outputs": [
      {
       "output_type": "stream",
       "stream": "stdout",
       "text": [
        "3639910.0\n"
       ]
      }
     ],
     "prompt_number": 8
    },
    {
     "cell_type": "code",
     "collapsed": false,
     "input": [
      "times"
     ],
     "language": "python",
     "metadata": {},
     "outputs": [
      {
       "metadata": {},
       "output_type": "pyout",
       "prompt_number": 9,
       "text": [
        "array([ 3111000.,  3111600.,  3112200., ...,  4146000.,  4146600.,\n",
        "        4147200.])"
       ]
      }
     ],
     "prompt_number": 9
    },
    {
     "cell_type": "code",
     "collapsed": false,
     "input": [
      "# goal here is to find the closest time index, or do we always use the \"one before\" or \"one after\"?\n",
      "time = bisect.bisect_right(times, datestart) - 1\n",
      "print time\n",
      "\n",
      "# this will find the closest index, but could be an expensive function if la\n",
      "print min(range(len(times)), key=lambda i: abs(times[i]-datestart))"
     ],
     "language": "python",
     "metadata": {},
     "outputs": [
      {
       "output_type": "stream",
       "stream": "stdout",
       "text": [
        "881\n",
        "882\n"
       ]
      }
     ],
     "prompt_number": 10
    },
    {
     "cell_type": "code",
     "collapsed": false,
     "input": [
      "a = [1,2,3,4,5,6]\n",
      "b = bisect.bisect_right(a,4)\n",
      "print b"
     ],
     "language": "python",
     "metadata": {},
     "outputs": [
      {
       "output_type": "stream",
       "stream": "stdout",
       "text": [
        "4\n"
       ]
      }
     ],
     "prompt_number": 12
    },
    {
     "cell_type": "code",
     "collapsed": false,
     "input": [
      "a = [2, 7, 10, 15]\n",
      "c = 8\n",
      "b = bisect.bisect_right(a,c)\n",
      "print b\n",
      "print a[b]\n",
      "b = b if abs(a[b]-c) < abs(a[b-1]-c) else b-1\n",
      "print b\n",
      "print a[b]"
     ],
     "language": "python",
     "metadata": {},
     "outputs": [
      {
       "output_type": "stream",
       "stream": "stdout",
       "text": [
        "2\n",
        "10\n",
        "1\n",
        "7\n"
       ]
      }
     ],
     "prompt_number": 24
    },
    {
     "cell_type": "code",
     "collapsed": false,
     "input": [
      "time = time if abs(times[time]-datestart) < abs(times[time-1]-datestart) else time-1"
     ],
     "language": "python",
     "metadata": {},
     "outputs": [],
     "prompt_number": 25
    },
    {
     "cell_type": "code",
     "collapsed": false,
     "input": [
      "print datestart\n",
      "print time\n",
      "print times[time]"
     ],
     "language": "python",
     "metadata": {},
     "outputs": [
      {
       "output_type": "stream",
       "stream": "stdout",
       "text": [
        "3639910.0\n",
        "881\n",
        "3639600.0\n"
       ]
      }
     ],
     "prompt_number": 27
    },
    {
     "cell_type": "code",
     "collapsed": false,
     "input": [
      "nc.variables.keys()"
     ],
     "language": "python",
     "metadata": {},
     "outputs": [
      {
       "metadata": {},
       "output_type": "pyout",
       "prompt_number": 32,
       "text": [
        "[u'time',\n",
        " u'x',\n",
        " u'y',\n",
        " u'element',\n",
        " u'adcirc_mesh',\n",
        " u'neta',\n",
        " u'nvdll',\n",
        " u'max_nvdll',\n",
        " u'ibtypee',\n",
        " u'nbdv',\n",
        " u'nvel',\n",
        " u'nvell',\n",
        " u'max_nvell',\n",
        " u'ibtype',\n",
        " u'nbvv',\n",
        " u'depth',\n",
        " u'zeta',\n",
        " u'u-vel',\n",
        " u'v-vel',\n",
        " u'pressure',\n",
        " u'windx',\n",
        " u'windy',\n",
        " u'zeta_max',\n",
        " u'radstress_max',\n",
        " u'vel_max',\n",
        " u'wind_max',\n",
        " u'pressure_min',\n",
        " u'swan_DIR',\n",
        " u'swan_DIR_max',\n",
        " u'swan_HS',\n",
        " u'swan_HS_max',\n",
        " u'swan_TMM10',\n",
        " u'swan_TMM10_max',\n",
        " u'swan_TPS',\n",
        " u'swan_TPS_max',\n",
        " u'radstress_x',\n",
        " u'radstress_y']"
       ]
      }
     ],
     "prompt_number": 32
    },
    {
     "cell_type": "code",
     "collapsed": false,
     "input": [
      "zeta = nc.variables['zeta']"
     ],
     "language": "python",
     "metadata": {},
     "outputs": [],
     "prompt_number": 33
    },
    {
     "cell_type": "code",
     "collapsed": false,
     "input": [
      "zeta"
     ],
     "language": "python",
     "metadata": {},
     "outputs": [
      {
       "metadata": {},
       "output_type": "pyout",
       "prompt_number": 34,
       "text": [
        "<netCDF4.Variable at 0x7f7e53dede60>"
       ]
      }
     ],
     "prompt_number": 34
    },
    {
     "cell_type": "code",
     "collapsed": false,
     "input": [
      "zeta.shape"
     ],
     "language": "python",
     "metadata": {},
     "outputs": [
      {
       "metadata": {},
       "output_type": "pyout",
       "prompt_number": 40,
       "text": [
        "(1728, 417642)"
       ]
      }
     ],
     "prompt_number": 40
    },
    {
     "cell_type": "code",
     "collapsed": false,
     "input": [
      "zeta[:5,:5]"
     ],
     "language": "python",
     "metadata": {},
     "outputs": [
      {
       "metadata": {},
       "output_type": "pyout",
       "prompt_number": 41,
       "text": [
        "masked_array(data =\n",
        " [[0.31101194284414857 0.330512761968785 0.33313829986212234\n",
        "  0.334756257268894 --]\n",
        " [0.3016559571836519 0.3259377285871805 0.3303934359240723\n",
        "  0.3328875958805556 --]\n",
        " [0.29178336032567004 0.321476429506634 0.32852741686266945\n",
        "  0.3298923287979495 --]\n",
        " [0.2820321741619903 0.31634007593239366 0.3255752474660406\n",
        "  0.3256648057322065 --]\n",
        " [0.2721882605834938 0.31029730174053666 0.3206523824300266\n",
        "  0.3221540833456102 --]],\n",
        "             mask =\n",
        " [[False False False False  True]\n",
        " [False False False False  True]\n",
        " [False False False False  True]\n",
        " [False False False False  True]\n",
        " [False False False False  True]],\n",
        "       fill_value = -99999.0)"
       ]
      }
     ],
     "prompt_number": 41
    },
    {
     "cell_type": "code",
     "collapsed": false,
     "input": [
      "zeta[:5]"
     ],
     "language": "python",
     "metadata": {},
     "outputs": [
      {
       "metadata": {},
       "output_type": "pyout",
       "prompt_number": 42,
       "text": [
        "masked_array(data =\n",
        " [[0.31101194284414857 0.330512761968785 0.33313829986212234 ..., -- -- --]\n",
        " [0.3016559571836519 0.3259377285871805 0.3303934359240723 ..., -- -- --]\n",
        " [0.29178336032567004 0.321476429506634 0.32852741686266945 ..., -- -- --]\n",
        " [0.2820321741619903 0.31634007593239366 0.3255752474660406 ..., -- -- --]\n",
        " [0.2721882605834938 0.31029730174053666 0.3206523824300266 ..., -- -- --]],\n",
        "             mask =\n",
        " [[False False False ...,  True  True  True]\n",
        " [False False False ...,  True  True  True]\n",
        " [False False False ...,  True  True  True]\n",
        " [False False False ...,  True  True  True]\n",
        " [False False False ...,  True  True  True]],\n",
        "       fill_value = -99999.0)"
       ]
      }
     ],
     "prompt_number": 42
    },
    {
     "cell_type": "code",
     "collapsed": false,
     "input": [
      "z = zeta[:5]"
     ],
     "language": "python",
     "metadata": {},
     "outputs": [],
     "prompt_number": 43
    },
    {
     "cell_type": "code",
     "collapsed": false,
     "input": [
      "z.shape"
     ],
     "language": "python",
     "metadata": {},
     "outputs": [
      {
       "metadata": {},
       "output_type": "pyout",
       "prompt_number": 44,
       "text": [
        "(5, 417642)"
       ]
      }
     ],
     "prompt_number": 44
    },
    {
     "cell_type": "code",
     "collapsed": false,
     "input": [
      "z = zeta[:,:]"
     ],
     "language": "python",
     "metadata": {},
     "outputs": [
      {
       "ename": "RuntimeError",
       "evalue": "NetCDF: Access failure",
       "output_type": "pyerr",
       "traceback": [
        "\u001b[1;31m---------------------------------------------------------------------------\u001b[0m\n\u001b[1;31mRuntimeError\u001b[0m                              Traceback (most recent call last)",
        "\u001b[1;32m<ipython-input-46-6929563f23c6>\u001b[0m in \u001b[0;36m<module>\u001b[1;34m()\u001b[0m\n\u001b[1;32m----> 1\u001b[1;33m \u001b[0mz\u001b[0m \u001b[1;33m=\u001b[0m \u001b[0mzeta\u001b[0m\u001b[1;33m[\u001b[0m\u001b[1;33m:\u001b[0m\u001b[1;33m,\u001b[0m\u001b[1;33m:\u001b[0m\u001b[1;33m]\u001b[0m\u001b[1;33m\u001b[0m\u001b[0m\n\u001b[0m",
        "\u001b[1;32m/home/bmayer_local/.virtualenvs/wms/local/lib/python2.7/site-packages/netCDF4.so\u001b[0m in \u001b[0;36mnetCDF4.Variable.__getitem__ (netCDF4.c:36122)\u001b[1;34m()\u001b[0m\n",
        "\u001b[1;32m/home/bmayer_local/.virtualenvs/wms/local/lib/python2.7/site-packages/netCDF4.so\u001b[0m in \u001b[0;36mnetCDF4.Variable._get (netCDF4.c:42860)\u001b[1;34m()\u001b[0m\n",
        "\u001b[1;31mRuntimeError\u001b[0m: NetCDF: Access failure"
       ]
      }
     ],
     "prompt_number": 46
    },
    {
     "cell_type": "code",
     "collapsed": false,
     "input": [
      "z = zeta[time,:]"
     ],
     "language": "python",
     "metadata": {},
     "outputs": [],
     "prompt_number": 47
    },
    {
     "cell_type": "code",
     "collapsed": false,
     "input": [
      "z.shape"
     ],
     "language": "python",
     "metadata": {},
     "outputs": [
      {
       "metadata": {},
       "output_type": "pyout",
       "prompt_number": 48,
       "text": [
        "(417642,)"
       ]
      }
     ],
     "prompt_number": 48
    },
    {
     "cell_type": "code",
     "collapsed": false,
     "input": [
      "len(zeta.shape)"
     ],
     "language": "python",
     "metadata": {},
     "outputs": [
      {
       "metadata": {},
       "output_type": "pyout",
       "prompt_number": 49,
       "text": [
        "2"
       ]
      }
     ],
     "prompt_number": 49
    },
    {
     "cell_type": "code",
     "collapsed": false,
     "input": [
      "zeta_max_obj = nc.variables['zeta_max']"
     ],
     "language": "python",
     "metadata": {},
     "outputs": [],
     "prompt_number": 50
    },
    {
     "cell_type": "code",
     "collapsed": false,
     "input": [
      "zeta_max_obj.shape"
     ],
     "language": "python",
     "metadata": {},
     "outputs": [
      {
       "metadata": {},
       "output_type": "pyout",
       "prompt_number": 51,
       "text": [
        "(417642,)"
       ]
      }
     ],
     "prompt_number": 51
    },
    {
     "cell_type": "code",
     "collapsed": false,
     "input": [
      "len(zeta_max_obj.shape)"
     ],
     "language": "python",
     "metadata": {},
     "outputs": [
      {
       "metadata": {},
       "output_type": "pyout",
       "prompt_number": 52,
       "text": [
        "1"
       ]
      }
     ],
     "prompt_number": 52
    },
    {
     "cell_type": "code",
     "collapsed": false,
     "input": [],
     "language": "python",
     "metadata": {},
     "outputs": []
    }
   ],
   "metadata": {}
  }
 ]
}