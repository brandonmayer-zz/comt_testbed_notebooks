{
 "metadata": {
  "name": "",
  "signature": "sha256:5f9f0b9d6c59e6b5d415f867e6525e79793a015f9d3ccb6b6963374eef7a382a"
 },
 "nbformat": 3,
 "nbformat_minor": 0,
 "worksheets": [
  {
   "cells": [
    {
     "cell_type": "code",
     "collapsed": false,
     "input": [
      "from netCDF4 import Dataset\n",
      "import matplotlib.pyplot as plt\n",
      "import matplotlib.tri as Tri\n",
      "import pyugrid\n",
      "import numpy as np\n",
      "import os\n",
      "from rtree import index as rindex\n",
      "%matplotlib inline\n",
      "\n",
      "url=\"http://comt.sura.org/thredds/dodsC/data/comt_1_archive/inundation_tropical/UND_ADCIRC/Hurricane_Ike_2D_final_run_without_waves\""
     ],
     "language": "python",
     "metadata": {},
     "outputs": [],
     "prompt_number": 30
    },
    {
     "cell_type": "code",
     "collapsed": false,
     "input": [
      "def subset(lonmin, latmin, lonmax, latmax, lon, lat, padding = 0.18):\n",
      "    index = np.asarray(np.where(\n",
      "        (lat <= latmax+padding) & (lat >= latmin-padding) &\n",
      "        (lon <= lonmax+padding) & (lon >= lonmin-padding),)).squeeze()\n",
      "    lat = lat[index]\n",
      "    lon = lon[index]\n",
      "    if not len(index) > 0:\n",
      "        index = None\n",
      "    return index, lat, lon"
     ],
     "language": "python",
     "metadata": {},
     "outputs": [],
     "prompt_number": 96
    },
    {
     "cell_type": "code",
     "collapsed": false,
     "input": [
      "def subset_idx(lonmin, latmin, lonmax, latmax, lon, lat, padding = 0.18):\n",
      "    index = np.asarray(np.where(\n",
      "        (lat <= latmax+padding) & (lat >= latmin-padding) &\n",
      "        (lon <= lonmax+padding) & (lon >= lonmin-padding),)).squeeze()\n",
      "    return index"
     ],
     "language": "python",
     "metadata": {},
     "outputs": [],
     "prompt_number": 95
    },
    {
     "cell_type": "code",
     "collapsed": false,
     "input": [
      "def subset_faces(lonmin, latmin, lonmax, latmax, lon, lat, faces, padding=0.18):\n",
      "    node_idx = subset_idx(latmin, lonmin, latmax, lonmax, lat, lon)\n",
      "    return np.asarray(np.where(np.any(np.in1d(faces, node_idx).reshape(faces.shape),1))).squeeze()"
     ],
     "language": "python",
     "metadata": {},
     "outputs": [],
     "prompt_number": 118
    },
    {
     "cell_type": "code",
     "collapsed": false,
     "input": [
      "nc = Dataset(url,'r')\n",
      "ug = pyugrid.UGrid.from_nc_dataset(nc)"
     ],
     "language": "python",
     "metadata": {},
     "outputs": [],
     "prompt_number": 3
    },
    {
     "cell_type": "code",
     "collapsed": false,
     "input": [
      "def generator_function():\n",
      "    for face_idx, node_idx in enumerate(ug.faces):\n",
      "        nodes = ug.nodes[node_idx]\n",
      "        xmin,ymin = np.min(nodes,0)\n",
      "        xmax,ymax = np.max(nodes,0)\n",
      "        yield (face_idx, (xmin, ymin, xmax, ymax), node_idx)"
     ],
     "language": "python",
     "metadata": {},
     "outputs": [],
     "prompt_number": 41
    },
    {
     "cell_type": "code",
     "collapsed": false,
     "input": [
      "ridx = rindex.Index(\"rtree\")"
     ],
     "language": "python",
     "metadata": {},
     "outputs": [],
     "prompt_number": 50
    },
    {
     "cell_type": "code",
     "collapsed": false,
     "input": [
      "for face_idx, node_idx in enumerate(ug.faces):\n",
      "    nodes = ug.nodes[node_idx]\n",
      "    xmin,ymin = np.min(nodes,0)\n",
      "    xmax,ymax = np.max(nodes,0)\n",
      "    ridx.insert(face_idx, (xmin,ymin,xmax,ymax), node_idx)"
     ],
     "language": "python",
     "metadata": {},
     "outputs": [],
     "prompt_number": 53
    },
    {
     "cell_type": "code",
     "collapsed": false,
     "input": [
      "lon = ug.nodes[:,0]\n",
      "lat = ug.nodes[:,1]"
     ],
     "language": "python",
     "metadata": {},
     "outputs": [],
     "prompt_number": 54
    },
    {
     "cell_type": "code",
     "collapsed": false,
     "input": [
      "print (min(lon), min(lat), max(lon), max(lat))\n",
      "print lon.shape\n",
      "print lat.shape"
     ],
     "language": "python",
     "metadata": {},
     "outputs": [
      {
       "output_type": "stream",
       "stream": "stdout",
       "text": [
        "(-97.856888999999995, 18.151389000000002, -79.739305000000002, 31.010635000000004)\n",
        "(417642,)\n",
        "(417642,)\n"
       ]
      }
     ],
     "prompt_number": 81
    },
    {
     "cell_type": "code",
     "collapsed": false,
     "input": [
      "bbox = [-90.,20.,-85.,25.]"
     ],
     "language": "python",
     "metadata": {},
     "outputs": [],
     "prompt_number": 57
    },
    {
     "cell_type": "code",
     "collapsed": false,
     "input": [
      "hits = list(ridx.intersection(bbox))"
     ],
     "language": "python",
     "metadata": {},
     "outputs": [],
     "prompt_number": 58
    },
    {
     "cell_type": "code",
     "collapsed": false,
     "input": [
      "len(hits)"
     ],
     "language": "python",
     "metadata": {},
     "outputs": [
      {
       "metadata": {},
       "output_type": "pyout",
       "prompt_number": 84,
       "text": [
        "12475"
       ]
      }
     ],
     "prompt_number": 84
    },
    {
     "cell_type": "code",
     "collapsed": false,
     "input": [
      "hits[0]"
     ],
     "language": "python",
     "metadata": {},
     "outputs": [
      {
       "metadata": {},
       "output_type": "pyout",
       "prompt_number": 86,
       "text": [
        "273727"
       ]
      }
     ],
     "prompt_number": 86
    },
    {
     "cell_type": "code",
     "collapsed": false,
     "input": [
      "subset_bruteforce = subset_idx(bbox[0], bbox[1], bbox[2], bbox[3], lon, lat, padding=0.)                   "
     ],
     "language": "python",
     "metadata": {},
     "outputs": [],
     "prompt_number": 98
    },
    {
     "cell_type": "code",
     "collapsed": false,
     "input": [
      "len(subset_bruteforce)"
     ],
     "language": "python",
     "metadata": {},
     "outputs": [
      {
       "metadata": {},
       "output_type": "pyout",
       "prompt_number": 99,
       "text": [
        "6250"
       ]
      }
     ],
     "prompt_number": 99
    },
    {
     "cell_type": "code",
     "collapsed": false,
     "input": [
      "faces_subset_bruteforce = subset_faces(bbox[0], bbox[1], bbox[2], bbox[3], lon, lat, ug.faces, padding=0.)"
     ],
     "language": "python",
     "metadata": {},
     "outputs": [],
     "prompt_number": 119
    },
    {
     "cell_type": "code",
     "collapsed": false,
     "input": [
      "len(faces_subset_bruteforce)"
     ],
     "language": "python",
     "metadata": {},
     "outputs": [
      {
       "metadata": {},
       "output_type": "pyout",
       "prompt_number": 120,
       "text": [
        "13327"
       ]
      }
     ],
     "prompt_number": 120
    },
    {
     "cell_type": "code",
     "collapsed": false,
     "input": [
      "faces_subset_bruteforce"
     ],
     "language": "python",
     "metadata": {},
     "outputs": [
      {
       "metadata": {},
       "output_type": "pyout",
       "prompt_number": 94,
       "text": [
        "array([197513, 197514, 199420, ..., 391837, 391838, 394155])"
       ]
      }
     ],
     "prompt_number": 94
    },
    {
     "cell_type": "code",
     "collapsed": false,
     "input": [
      "ntrials = 100\n",
      "rtree_avg_time = 0.\n",
      "for i in xrange(ntrials):\n",
      "    import time\n",
      "    start = time.time()\n",
      "    hits = ridx.intersection(bbox)\n",
      "    end = time.time()\n",
      "    rtree_time = end-start\n",
      "    rtree_avg_time += rtree_time\n",
      "rtree_avg_time /= ntrials\n",
      "print avg_time"
     ],
     "language": "python",
     "metadata": {},
     "outputs": [
      {
       "output_type": "stream",
       "stream": "stdout",
       "text": [
        "0.00703447365761\n"
       ]
      }
     ],
     "prompt_number": 122
    },
    {
     "cell_type": "code",
     "collapsed": false,
     "input": [
      "bf_avg_time = 0.\n",
      "for i in xrange(ntrials):\n",
      "    start = time.time()\n",
      "    faces_subset_bruteforce = subset_faces(bbox[0], bbox[1], bbox[2], bbox[3], lon, lat, ug.faces, padding=0.)\n",
      "    end = time.time()\n",
      "    bf_time = end-start\n",
      "    bf_avg_time += bf_time\n",
      "bf_avg_time /= ntrials\n",
      "print bf_avg_time"
     ],
     "language": "python",
     "metadata": {},
     "outputs": [
      {
       "output_type": "stream",
       "stream": "stdout",
       "text": [
        "0.379055857658\n"
       ]
      }
     ],
     "prompt_number": 123
    },
    {
     "cell_type": "code",
     "collapsed": false,
     "input": [
      "print bf_time/rtree_time"
     ],
     "language": "python",
     "metadata": {},
     "outputs": [
      {
       "output_type": "stream",
       "stream": "stdout",
       "text": [
        "51.510253124\n"
       ]
      }
     ],
     "prompt_number": 124
    },
    {
     "cell_type": "code",
     "collapsed": false,
     "input": [],
     "language": "python",
     "metadata": {},
     "outputs": []
    }
   ],
   "metadata": {}
  }
 ]
}